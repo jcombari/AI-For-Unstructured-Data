{
 "cells": [
  {
   "cell_type": "code",
   "execution_count": 28,
   "id": "717779e4-d72a-4aae-845c-d4554241c6d3",
   "metadata": {},
   "outputs": [
    {
     "name": "stdout",
     "output_type": "stream",
     "text": [
      "🎧 Listening to the audio...\n",
      "📝 Transcripción:  artificial intelligence is not about replacing humans but enhancing our abilities AI is revolutionizing industries from Healthcare to financed by automating tasks and uncovering insights that were previously unimaginable however the ethical implications of a higher remain a crucial debate as we move forward responsibility that technology serves Humanity rather than replacing it what do you think will be the biggest challenge\n"
     ]
    }
   ],
   "source": [
    "import speech_recognition as sr\n",
    "from pydub import AudioSegment\n",
    "import os\n",
    "\n",
    "# Step 1: Convertir MP3 a WAV\n",
    "audio_file = \"20250214_Convert Audio to Text.mp3\"\n",
    "audio = AudioSegment.from_mp3(audio_file)  # Cargar el archivo MP3\n",
    "audio.export(\"converted_audio.wav\", format=\"wav\")  # Guardar como archivo WAV\n",
    "\n",
    "# Step 2: Inicializar el reconocedor\n",
    "recognizer = sr.Recognizer()\n",
    "\n",
    "# Step 3: Cargar el archivo WAV en SpeechRecognition\n",
    "with sr.AudioFile(\"converted_audio.wav\") as source:\n",
    "    print(\"🎧 Listening to the audio...\")\n",
    "    \n",
    "    # Ajuste para ruido ambiental dentro de la declaración `with`\n",
    "    recognizer.adjust_for_ambient_noise(source)  # Ajustar el ruido ambiental del archivo\n",
    "    audio_data = recognizer.record(source)  # Graba todo el audio\n",
    "\n",
    "# Step 4: Convertir el audio a texto usando la API de Google\n",
    "try:\n",
    "    text = recognizer.recognize_google(audio_data)  # Usar la API de Google para reconocimiento\n",
    "    print(\"📝 Transcripción: \", text)\n",
    "except sr.UnknownValueError:\n",
    "    text = \"Sorry, I could not understand the audio.\"\n",
    "    print(text)\n",
    "except sr.RequestError:\n",
    "    text = \"Sorry, there was an error with the request.\"\n",
    "    print(text)\n",
    "\n"
   ]
  }
 ],
 "metadata": {
  "kernelspec": {
   "display_name": "Python 3 (ipykernel)",
   "language": "python",
   "name": "python3"
  },
  "language_info": {
   "codemirror_mode": {
    "name": "ipython",
    "version": 3
   },
   "file_extension": ".py",
   "mimetype": "text/x-python",
   "name": "python",
   "nbconvert_exporter": "python",
   "pygments_lexer": "ipython3",
   "version": "3.12.3"
  }
 },
 "nbformat": 4,
 "nbformat_minor": 5
}
