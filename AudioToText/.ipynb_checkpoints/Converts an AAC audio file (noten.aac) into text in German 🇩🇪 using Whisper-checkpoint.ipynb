{
 "cells": [
  {
   "cell_type": "markdown",
   "id": "c2ac5efd-4ba9-4e2c-b093-2af3b40f586b",
   "metadata": {},
   "source": [
    "# 🎯 Objective of the Code  \n",
    "\n",
    "This Python script 🎼🔊 **converts an AAC audio file (`noten.aac`) into text in German 🇩🇪** using **Whisper**, an automatic speech recognition (ASR) model.  \n",
    "\n",
    "## ✅ Steps  \n",
    "1️⃣ **Convert** the AAC file to WAV 🎵 (Whisper requires WAV format)  \n",
    "2️⃣ **Load** the Whisper model 🧠🔍  \n",
    "3️⃣ **Transcribe** the audio into German text 📝🗣️  \n",
    "4️⃣ **Display** the transcription 📜✅  \n",
    "\n",
    "For better accuracy, you can use `\"medium\"` or `\"large\"` instead of `\"small\"` in the model selection. 🚀  \n"
   ]
  },
  {
   "cell_type": "code",
   "execution_count": 6,
   "id": "2b0f5fcc-2731-436c-bd18-631c03df3a29",
   "metadata": {},
   "outputs": [
    {
     "name": "stderr",
     "output_type": "stream",
     "text": [
      "100%|███████████████████████████████████████| 461M/461M [01:19<00:00, 6.07MiB/s]\n",
      "C:\\Users\\jenny\\anaconda3\\Lib\\site-packages\\whisper\\__init__.py:150: FutureWarning: You are using `torch.load` with `weights_only=False` (the current default value), which uses the default pickle module implicitly. It is possible to construct malicious pickle data which will execute arbitrary code during unpickling (See https://github.com/pytorch/pytorch/blob/main/SECURITY.md#untrusted-models for more details). In a future release, the default value for `weights_only` will be flipped to `True`. This limits the functions that could be executed during unpickling. Arbitrary objects will no longer be allowed to be loaded via this mode unless they are explicitly allowlisted by the user via `torch.serialization.add_safe_globals`. We recommend you start setting `weights_only=True` for any use case where you don't have full control of the loaded file. Please open an issue on GitHub for any issues related to this experimental feature.\n",
      "  checkpoint = torch.load(fp, map_location=device)\n",
      "C:\\Users\\jenny\\anaconda3\\Lib\\site-packages\\whisper\\transcribe.py:126: UserWarning: FP16 is not supported on CPU; using FP32 instead\n",
      "  warnings.warn(\"FP16 is not supported on CPU; using FP32 instead\")\n"
     ]
    },
    {
     "name": "stdout",
     "output_type": "stream",
     "text": [
      "Transcription in German:  B2, A und B. Hallo, liebe Hörerinnen und Hörer. Noten werden immer wichtiger und immer mehr Schüler fühlen sich von der Schule gestresst. Wir von Radio Fann wollen wissen, ist es richtig, dass die Schüler immer mehr Stress haben? Und hier haben wir schon den ersten Schüler. Hallo, wie heißt du? Felix. Fühlst du dich von der Schule gestresst, Felix? Ja, schon. Ich finde, dass gute Noten sehr wichtig sind. Ich möchte auf jeden Fall einen guten Schulabschluss machen, denn ich will später Medizin studieren. Da braucht man sehr gute Noten. Deshalb lerne ich bis abends um 10 Uhr und mache auch an den Wochenenden Hausaufgaben. Ich habe fast keine Zeit für meine Hobbys, aber gute Noten. Aha, Felix hat also viel Stress, aber gute Noten. Da fragen wir doch gleich noch einen Schüler. Wie heißt du? Hast du auch viel Stress in der Schule? Ich heiße Mika. Nein, ich mache mir keinen Stress mit der Schule. Meine Hobbys sind mir sehr wichtig. Ich schwimme oft und ich gehe regelmäßig zu einem Computerklub. Klar, Noten sind wichtig, aber ich muss doch auch Zeit für meine Hobbys haben. Ich muss ja herausfinden, welche Interessen ich habe. Nur so kann ich später auch den richtigen Beruf finden. Meine Noten sind allerdings, ehrlich gesagt, nicht gut. Meine Eltern sagen immer, dass ich mehr lernen soll. Ich verstehe. Man muss also wählen. Freizeit oder gute Noten. Und du? Wie siehst du das? Du bist ... Hallo, ich bin Valentina. Ich finde es wichtig, dass man einen Mittelweg findet. Früher hatte ich viel zu viel Stress. Ich konnte nicht mehr schlafen und hatte oft Bauchschmerzen. Ich musste immer an Noten denken. Das macht krank. Es ist wichtig, dass man regelmäßig Pausen macht. Mir hat der Sport sehr geholfen. Wenn ich Stress bekomme, gehe ich einfach eine halbe Stunde joggen. Ich habe keine guten Noten, aber auch keine schlechten Noten. Und ich habe nicht mehr so viel Stress. Ja, vielen Dank.\n"
     ]
    }
   ],
   "source": [
    "import whisper  # Import the Whisper library for automatic speech recognition\n",
    "from pydub import AudioSegment  # Import pydub to handle audio format conversion\n",
    "\n",
    "def transcribe_audio(aac_file, language=\"de\"):\n",
    "    # Convert AAC file to WAV format (Whisper requires WAV format)\n",
    "    audio = AudioSegment.from_file(aac_file, format=\"aac\")  \n",
    "    wav_file = aac_file.replace(\".aac\", \".wav\")  # Change file extension from .aac to .wav\n",
    "    audio.export(wav_file, format=\"wav\")  # Save the new WAV file\n",
    "\n",
    "    # Load the Whisper ASR model\n",
    "    model = whisper.load_model(\"small\")  # \"small\" model is used; change to \"medium\" or \"large\" for better accuracy\n",
    "\n",
    "    # Transcribe the audio file into text\n",
    "    result = model.transcribe(wav_file, language=language)  \n",
    "    \n",
    "    return result[\"text\"]  # Return the transcribed text\n",
    "\n",
    "# Define the audio file to be transcribed\n",
    "aac_file = \"noten.aac\"  # Replace with your AAC file\n",
    "\n",
    "# Perform transcription\n",
    "transcription = transcribe_audio(aac_file)\n",
    "\n",
    "# Print the transcription result\n",
    "print(\"Transcription in German:\", transcription)\n"
   ]
  },
  {
   "cell_type": "code",
   "execution_count": null,
   "id": "62d026d4-1d6c-438c-981b-2c1797bc61ab",
   "metadata": {},
   "outputs": [],
   "source": []
  }
 ],
 "metadata": {
  "kernelspec": {
   "display_name": "Python 3 (ipykernel)",
   "language": "python",
   "name": "python3"
  },
  "language_info": {
   "codemirror_mode": {
    "name": "ipython",
    "version": 3
   },
   "file_extension": ".py",
   "mimetype": "text/x-python",
   "name": "python",
   "nbconvert_exporter": "python",
   "pygments_lexer": "ipython3",
   "version": "3.12.3"
  }
 },
 "nbformat": 4,
 "nbformat_minor": 5
}
