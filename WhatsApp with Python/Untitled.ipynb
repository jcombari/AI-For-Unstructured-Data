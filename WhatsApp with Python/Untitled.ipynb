{
 "cells": [
  {
   "cell_type": "code",
   "execution_count": 1,
   "id": "83878d59-ccf9-44ed-a952-8fee1efeb567",
   "metadata": {},
   "outputs": [],
   "source": [
    "# Importar librerías necesarias\n",
    "import pywhatkit as kit\n",
    "import time\n",
    "\n",
    "# Número de teléfono con código de país (asegúrate de usar un número de prueba)\n",
    "phone_number = '+34611105348'\n",
    "\n",
    "# Mensaje de alerta crítica\n",
    "message = \"⚠️ ALERT: The API-003 server has been down since 04:23h. Immediate intervention required.\"\n",
    "\n",
    "# Esperar unos segundos para asegurarse de que todo esté listo\n",
    "# Esto es útil si se ejecuta como parte de un script más grande\n",
    "time.sleep(5)\n",
    "\n",
    "# Enviar mensaje instantáneamente (requiere tener WhatsApp Web ya abierto y escaneado)\n",
    "kit.sendwhatmsg_instantly(phone_number, message, wait_time=10, tab_close=True, close_time=3)\n",
    "\n",
    "# Notas:\n",
    "# - `wait_time`: segundos que espera antes de escribir el mensaje.\n",
    "# - `tab_close`: si True, cierra la pestaña después de enviar el mensaje.\n",
    "# - `close_time`: tiempo en segundos antes de cerrar la pestaña (si se permite).\n"
   ]
  }
 ],
 "metadata": {
  "kernelspec": {
   "display_name": "Python 3 (ipykernel)",
   "language": "python",
   "name": "python3"
  },
  "language_info": {
   "codemirror_mode": {
    "name": "ipython",
    "version": 3
   },
   "file_extension": ".py",
   "mimetype": "text/x-python",
   "name": "python",
   "nbconvert_exporter": "python",
   "pygments_lexer": "ipython3",
   "version": "3.12.3"
  }
 },
 "nbformat": 4,
 "nbformat_minor": 5
}
