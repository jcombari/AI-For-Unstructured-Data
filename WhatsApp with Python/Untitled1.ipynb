{
 "cells": [
  {
   "cell_type": "code",
   "execution_count": 1,
   "id": "79f12502-4086-4fba-ad1f-b7d176934c22",
   "metadata": {},
   "outputs": [
    {
     "data": {
      "text/markdown": [
       "### 📢 Trivia Time!\n",
       "**What is the most used programming language in Data Science?**\n",
       "Options: Python, Java, C++"
      ],
      "text/plain": [
       "<IPython.core.display.Markdown object>"
      ]
     },
     "metadata": {},
     "output_type": "display_data"
    },
    {
     "data": {
      "text/markdown": [
       "❌ Incorrect. You answered: **Java**. The correct answer was **Python**"
      ],
      "text/plain": [
       "<IPython.core.display.Markdown object>"
      ]
     },
     "metadata": {},
     "output_type": "display_data"
    },
    {
     "data": {
      "image/png": "[encoded data removed]",
      "text/plain": [
       "<Figure size 500x300 with 1 Axes>"
      ]
     },
     "metadata": {},
     "output_type": "display_data"
    }
   ],
   "source": [
    "# Import necessary libraries\n",
    "import random  # To randomly select questions\n",
    "import matplotlib.pyplot as plt  # For visualizing results\n",
    "from IPython.display import display, Markdown  # For pretty printing\n",
    "\n",
    "# Define a list of trivia questions\n",
    "trivia = [\n",
    "    {\n",
    "        \"question\": \"What is the most used programming language in Data Science?\",\n",
    "        \"options\": [\"Python\", \"Java\", \"C++\"],\n",
    "        \"answer\": \"Python\"\n",
    "    },\n",
    "    {\n",
    "        \"question\": \"Which library is best for numerical computing?\",\n",
    "        \"options\": [\"NumPy\", \"Django\", \"Flask\"],\n",
    "        \"answer\": \"NumPy\"\n",
    "    },\n",
    "    {\n",
    "        \"question\": \"What does NLP stand for in AI?\",\n",
    "        \"options\": [\"Natural Language Processing\", \"New Learning Program\", \"Neural Learning Paradigm\"],\n",
    "        \"answer\": \"Natural Language Processing\"\n",
    "    }\n",
    "]\n",
    "\n",
    "# Randomly select one trivia question\n",
    "selected = random.choice(trivia)\n",
    "\n",
    "# Display the question\n",
    "display(Markdown(f\"### 📢 Trivia Time!\\n**{selected['question']}**\\nOptions: {', '.join(selected['options'])}\"))\n",
    "\n",
    "# Simulate a user response (In real case, it would come via WhatsApp)\n",
    "user_response = random.choice(selected['options'])\n",
    "\n",
    "# Check if the response is correct\n",
    "is_correct = user_response == selected[\"answer\"]\n",
    "\n",
    "# Display feedback\n",
    "if is_correct:\n",
    "    display(Markdown(f\"✅ Correct! You answered: **{user_response}**\"))\n",
    "else:\n",
    "    display(Markdown(f\"❌ Incorrect. You answered: **{user_response}**. The correct answer was **{selected['answer']}**\"))\n",
    "\n",
    "# Plot the interaction result\n",
    "labels = ['Correct', 'Incorrect']\n",
    "counts = [1 if is_correct else 0, 0 if is_correct else 1]\n",
    "colors = ['#4CAF50', '#F44336']\n",
    "\n",
    "# Plotting the results\n",
    "plt.figure(figsize=(5, 3))\n",
    "plt.bar(labels, counts, color=colors)\n",
    "plt.title('Trivia Result')\n",
    "plt.ylabel('Count')\n",
    "plt.show()\n"
   ]
  }
 ],
 "metadata": {
  "kernelspec": {
   "display_name": "Python 3 (ipykernel)",
   "language": "python",
   "name": "python3"
  },
  "language_info": {
   "codemirror_mode": {
    "name": "ipython",
    "version": 3
   },
   "file_extension": ".py",
   "mimetype": "text/x-python",
   "name": "python",
   "nbconvert_exporter": "python",
   "pygments_lexer": "ipython3",
   "version": "3.12.3"
  }
 },
 "nbformat": 4,
 "nbformat_minor": 5
}
