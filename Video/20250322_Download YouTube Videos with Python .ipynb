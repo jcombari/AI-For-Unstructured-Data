{
 "cells": [
  {
   "cell_type": "markdown",
   "id": "f39b3390-adf1-421b-8925-95db04b03616",
   "metadata": {},
   "source": [
    "# 📥 Download YouTube Videos with Python 🎥\n",
    "\n",
    "❓ Have you ever wanted to save a video for offline viewing or reuse it in another project?  \n",
    "🙃 Here's the solution with **pytube**!\n",
    "\n",
    "👉 **pytube** is a Python library that allows downloading YouTube videos in different resolutions and formats.\n",
    "\n",
    "## 🔧 How does it work?\n",
    "⚡ Extracts the video URL and lets you select the best available quality.  \n",
    "⚡ Supports audio-only downloads, perfect for podcasts or music.  \n",
    "⚡ Automates downloading in multiple formats.\n",
    "\n",
    "## 🔎 Why does it matter?\n",
    "🚀 Facilitates content reuse in video analysis, AI, and digital accessibility projects.  \n",
    "🚀 Helps archive educational material in case a video is deleted.  \n",
    "🚀 Ideal for watching content offline while traveling or in areas without internet.\n",
    "\n",
    "## ✨ Real-world example:\n",
    "Imagine you need to analyze an educational channel to extract subtitles and apply NLP.  \n",
    "With **pytube**, you can automate downloading and processing videos in seconds.\n",
    "\n",
    "## ⚙️ Business impact:\n",
    "🔹 AI companies can use it to train models with real content.  \n",
    "🔹 Marketing teams can extract key clips from conferences and events.  \n",
    "🔹 Content creators can back up their material in multiple formats.\n",
    "\n",
    "## 📊 What does the code do?\n",
    "✅ Downloads a YouTube video in the best available resolution.  \n",
    "✅ Saves the file locally with the original video title.  \n",
    "✅ Allows choosing between downloading video or just audio.\n",
    "\n",
    "🔗 **[GitHub](https://github.com/jcombari/AI-For-Unstructured-Data/tree/main/Video)**  \n",
    "\n",
    "💭 How would you use this tool in your daily work?\n",
    "\n",
    "🔑 #Python #DataScience #MachineLearning #AI #YouTube #Automation #GenerativeAI #DeepLearning\n",
    "\n",
    "---\n",
    "\n",
    "\n",
    "# 📥 Descarga Videos de YouTube con Python 🎥\n",
    "\n",
    "❓ ¿Alguna vez has querido guardar un video para verlo sin conexión o usarlo en otro proyecto?  \n",
    "🙃 ¡Aquí está la solución con **pytube**!\n",
    "\n",
    "👉 **pytube** es una librería de Python que permite descargar videos de YouTube en diferentes resoluciones y formatos.\n",
    "\n",
    "## 🔧 ¿Cómo funciona?\n",
    "⚡ Extrae la URL del video y permite seleccionar la mejor calidad disponible.  \n",
    "⚡ Soporta descargas de solo audio, ideal para podcasts o música.  \n",
    "⚡ Automatiza la descarga en múltiples formatos.\n",
    "\n",
    "## 🔎 ¿Por qué importa?\n",
    "🚀 Facilita la reutilización de contenido en proyectos de análisis de video, IA y accesibilidad digital.  \n",
    "🚀 Ayuda a archivar material educativo en caso de que un video sea eliminado.  \n",
    "🚀 Ideal para ver contenido sin conexión en viajes o zonas sin internet.\n",
    "\n",
    "## ✨ Ejemplo práctico:\n",
    "Imagina que necesitas analizar el contenido de un canal educativo para extraer subtítulos y aplicar NLP.  \n",
    "Con **pytube**, puedes automatizar la descarga y análisis de los videos en segundos.\n",
    "\n",
    "## ⚙️ Impacto en el negocio:\n",
    "🔹 Empresas de IA pueden usarlo para entrenar modelos con contenido real.  \n",
    "🔹 Departamentos de marketing pueden extraer clips clave de conferencias y eventos.  \n",
    "🔹 Creadores de contenido pueden respaldar su material en múltiples formatos.\n",
    "\n",
    "## 📊 ¿Qué hace el código?\n",
    "✅ Descarga un video de YouTube en la mejor resolución disponible.  \n",
    "✅ Guarda el archivo localmente con el título original del video.  \n",
    "✅ Permite elegir entre descargar video o solo audio.\n",
    "\n",
    "🔗 **[GitHub](https://github.com/jcombari/AI-For-Unstructured-Data/tree/main/Video)**  \n",
    "\n",
    "💭 ¿Cómo aprovecharías esta herramienta en tu día a día?\n",
    "\n",
    "🔑 #Python #DataScience #MachineLearning #AI #YouTube #Automation #GenerativeAI #DeepLearning\n",
    "\n",
    "---\n",
    "\n",
    "\n"
   ]
  },
  {
   "cell_type": "code",
   "execution_count": 17,
   "id": "8ec2e9b2-5a88-4593-acac-cd08198cb4a4",
   "metadata": {},
   "outputs": [
    {
     "name": "stdout",
     "output_type": "stream",
     "text": [
      "[youtube] Extracting URL: https://www.youtube.com/watch?v=xi8Z-BdLuLo\n",
      "[youtube] xi8Z-BdLuLo: Downloading webpage\n",
      "[youtube] xi8Z-BdLuLo: Downloading tv client config\n",
      "[youtube] xi8Z-BdLuLo: Downloading player 4fcd6e4a\n",
      "[youtube] xi8Z-BdLuLo: Downloading tv player API JSON\n",
      "[youtube] xi8Z-BdLuLo: Downloading ios player API JSON\n"
     ]
    },
    {
     "name": "stderr",
     "output_type": "stream",
     "text": [
      "WARNING: [youtube] xi8Z-BdLuLo: Native nsig extraction failed: Trying with PhantomJS\n",
      "         n = 810uuBr2rj2KFWZ9e ; player = https://www.youtube.com/s/player/4fcd6e4a/player_ias.vflset/en_US/base.js\n"
     ]
    },
    {
     "name": "stdout",
     "output_type": "stream",
     "text": [
      "[youtube] xi8Z-BdLuLo: Executing signature code\n"
     ]
    },
    {
     "name": "stderr",
     "output_type": "stream",
     "text": [
      "WARNING: [youtube] xi8Z-BdLuLo: nsig extraction failed: Some formats may be missing\n",
      "         n = 810uuBr2rj2KFWZ9e ; player = https://www.youtube.com/s/player/4fcd6e4a/player_ias.vflset/en_US/base.js\n",
      "WARNING: [youtube] xi8Z-BdLuLo: Native nsig extraction failed: Trying with PhantomJS\n",
      "         n = 1PxcxEYSqETzK0Xyt ; player = https://www.youtube.com/s/player/4fcd6e4a/player_ias.vflset/en_US/base.js\n"
     ]
    },
    {
     "name": "stdout",
     "output_type": "stream",
     "text": [
      "[youtube] xi8Z-BdLuLo: Executing signature code\n"
     ]
    },
    {
     "name": "stderr",
     "output_type": "stream",
     "text": [
      "WARNING: [youtube] xi8Z-BdLuLo: nsig extraction failed: Some formats may be missing\n",
      "         n = 1PxcxEYSqETzK0Xyt ; player = https://www.youtube.com/s/player/4fcd6e4a/player_ias.vflset/en_US/base.js\n",
      "WARNING: [youtube] xi8Z-BdLuLo: Native nsig extraction failed: Trying with PhantomJS\n",
      "         n = vFDOReX8V4t9MrfoR ; player = https://www.youtube.com/s/player/4fcd6e4a/player_ias.vflset/en_US/base.js\n"
     ]
    },
    {
     "name": "stdout",
     "output_type": "stream",
     "text": [
      "[youtube] xi8Z-BdLuLo: Executing signature code\n"
     ]
    },
    {
     "name": "stderr",
     "output_type": "stream",
     "text": [
      "WARNING: [youtube] xi8Z-BdLuLo: nsig extraction failed: Some formats may be missing\n",
      "         n = vFDOReX8V4t9MrfoR ; player = https://www.youtube.com/s/player/4fcd6e4a/player_ias.vflset/en_US/base.js\n",
      "WARNING: [youtube] xi8Z-BdLuLo: Native nsig extraction failed: Trying with PhantomJS\n",
      "         n = OmAi0iak34F4r0WuL ; player = https://www.youtube.com/s/player/4fcd6e4a/player_ias.vflset/en_US/base.js\n"
     ]
    },
    {
     "name": "stdout",
     "output_type": "stream",
     "text": [
      "[youtube] xi8Z-BdLuLo: Executing signature code\n"
     ]
    },
    {
     "name": "stderr",
     "output_type": "stream",
     "text": [
      "WARNING: [youtube] xi8Z-BdLuLo: nsig extraction failed: Some formats may be missing\n",
      "         n = OmAi0iak34F4r0WuL ; player = https://www.youtube.com/s/player/4fcd6e4a/player_ias.vflset/en_US/base.js\n"
     ]
    },
    {
     "name": "stdout",
     "output_type": "stream",
     "text": [
      "[youtube] xi8Z-BdLuLo: Downloading m3u8 information\n"
     ]
    },
    {
     "name": "stderr",
     "output_type": "stream",
     "text": [
      "ERROR: [youtube] xi8Z-BdLuLo: Requested format is not available. Use --list-formats for a list of available formats\n"
     ]
    },
    {
     "name": "stdout",
     "output_type": "stream",
     "text": [
      "Error: ERROR: [youtube] xi8Z-BdLuLo: Requested format is not available. Use --list-formats for a list of available formats\n"
     ]
    }
   ],
   "source": [
    "import yt_dlp\n",
    "\n",
    "def download_video(url, only_audio=False):\n",
    "    try:\n",
    "        ydl_opts = {'format': 'bestaudio/best' if only_audio else 'best'}\n",
    "        with yt_dlp.YoutubeDL(ydl_opts) as ydl:\n",
    "            ydl.download([url])\n",
    "        print(f\"Download complete: {url}\")\n",
    "    except Exception as e:\n",
    "        print(f\"Error: {e}\")\n",
    "\n",
    "video_url = \"https://www.youtube.com/watch?v=xi8Z-BdLuLo\"\n",
    "download_video(video_url, only_audio=False)\n"
   ]
  },
  {
   "cell_type": "code",
   "execution_count": 19,
   "id": "923f34a7-dcee-49c4-a123-375607430267",
   "metadata": {},
   "outputs": [
    {
     "name": "stdout",
     "output_type": "stream",
     "text": [
      "[youtube] Extracting URL: https://www.youtube.com/watch?v=xi8Z-BdLuLo\n",
      "[youtube] xi8Z-BdLuLo: Downloading webpage\n",
      "[youtube] xi8Z-BdLuLo: Downloading tv client config\n",
      "[youtube] xi8Z-BdLuLo: Downloading player 4fcd6e4a\n",
      "[youtube] xi8Z-BdLuLo: Downloading tv player API JSON\n",
      "[youtube] xi8Z-BdLuLo: Downloading ios player API JSON\n"
     ]
    },
    {
     "name": "stderr",
     "output_type": "stream",
     "text": [
      "WARNING: [youtube] xi8Z-BdLuLo: Native nsig extraction failed: Trying with PhantomJS\n",
      "         n = I094N7yS-QIn8PUFq ; player = https://www.youtube.com/s/player/4fcd6e4a/player_ias.vflset/en_US/base.js\n"
     ]
    },
    {
     "name": "stdout",
     "output_type": "stream",
     "text": [
      "[youtube] xi8Z-BdLuLo: Executing signature code\n"
     ]
    },
    {
     "name": "stderr",
     "output_type": "stream",
     "text": [
      "WARNING: [youtube] xi8Z-BdLuLo: nsig extraction failed: Some formats may be missing\n",
      "         n = I094N7yS-QIn8PUFq ; player = https://www.youtube.com/s/player/4fcd6e4a/player_ias.vflset/en_US/base.js\n",
      "WARNING: [youtube] xi8Z-BdLuLo: Native nsig extraction failed: Trying with PhantomJS\n",
      "         n = kgmIp3sB3AFTJFOmC ; player = https://www.youtube.com/s/player/4fcd6e4a/player_ias.vflset/en_US/base.js\n"
     ]
    },
    {
     "name": "stdout",
     "output_type": "stream",
     "text": [
      "[youtube] xi8Z-BdLuLo: Executing signature code\n"
     ]
    },
    {
     "name": "stderr",
     "output_type": "stream",
     "text": [
      "WARNING: [youtube] xi8Z-BdLuLo: nsig extraction failed: Some formats may be missing\n",
      "         n = kgmIp3sB3AFTJFOmC ; player = https://www.youtube.com/s/player/4fcd6e4a/player_ias.vflset/en_US/base.js\n",
      "WARNING: [youtube] xi8Z-BdLuLo: Native nsig extraction failed: Trying with PhantomJS\n",
      "         n = EwVpgTaKkMorTFHP6 ; player = https://www.youtube.com/s/player/4fcd6e4a/player_ias.vflset/en_US/base.js\n"
     ]
    },
    {
     "name": "stdout",
     "output_type": "stream",
     "text": [
      "[youtube] xi8Z-BdLuLo: Executing signature code\n"
     ]
    },
    {
     "name": "stderr",
     "output_type": "stream",
     "text": [
      "WARNING: [youtube] xi8Z-BdLuLo: nsig extraction failed: Some formats may be missing\n",
      "         n = EwVpgTaKkMorTFHP6 ; player = https://www.youtube.com/s/player/4fcd6e4a/player_ias.vflset/en_US/base.js\n",
      "WARNING: [youtube] xi8Z-BdLuLo: Native nsig extraction failed: Trying with PhantomJS\n",
      "         n = PJXknImMFVHtaVbnf ; player = https://www.youtube.com/s/player/4fcd6e4a/player_ias.vflset/en_US/base.js\n"
     ]
    },
    {
     "name": "stdout",
     "output_type": "stream",
     "text": [
      "[youtube] xi8Z-BdLuLo: Executing signature code\n"
     ]
    },
    {
     "name": "stderr",
     "output_type": "stream",
     "text": [
      "WARNING: [youtube] xi8Z-BdLuLo: nsig extraction failed: Some formats may be missing\n",
      "         n = PJXknImMFVHtaVbnf ; player = https://www.youtube.com/s/player/4fcd6e4a/player_ias.vflset/en_US/base.js\n"
     ]
    },
    {
     "name": "stdout",
     "output_type": "stream",
     "text": [
      "[youtube] xi8Z-BdLuLo: Downloading m3u8 information\n"
     ]
    },
    {
     "name": "stderr",
     "output_type": "stream",
     "text": [
      "ERROR: [youtube] xi8Z-BdLuLo: Requested format is not available. Use --list-formats for a list of available formats\n"
     ]
    },
    {
     "name": "stdout",
     "output_type": "stream",
     "text": [
      "Error: ERROR: [youtube] xi8Z-BdLuLo: Requested format is not available. Use --list-formats for a list of available formats\n"
     ]
    }
   ],
   "source": [
    "import yt_dlp\n",
    "\n",
    "def download_video(url, format_id=None):\n",
    "    try:\n",
    "        ydl_opts = {'format': format_id if format_id else 'best'}\n",
    "        with yt_dlp.YoutubeDL(ydl_opts) as ydl:\n",
    "            ydl.download([url])\n",
    "        print(f\"Download complete: {url}\")\n",
    "    except Exception as e:\n",
    "        print(f\"Error: {e}\")\n",
    "\n",
    "# Ejemplo de uso\n",
    "video_url = \"https://www.youtube.com/watch?v=xi8Z-BdLuLo\"\n",
    "download_video(video_url, format_id='137')  # Reemplaza '137' con el formato que desees\n"
   ]
  }
 ],
 "metadata": {
  "kernelspec": {
   "display_name": "Python 3 (ipykernel)",
   "language": "python",
   "name": "python3"
  },
  "language_info": {
   "codemirror_mode": {
    "name": "ipython",
    "version": 3
   },
   "file_extension": ".py",
   "mimetype": "text/x-python",
   "name": "python",
   "nbconvert_exporter": "python",
   "pygments_lexer": "ipython3",
   "version": "3.12.3"
  }
 },
 "nbformat": 4,
 "nbformat_minor": 5
}
