{
 "cells": [
  {
   "cell_type": "code",
   "execution_count": null,
   "id": "8926e930-351d-4d4c-9486-e75c853e5c87",
   "metadata": {},
   "outputs": [],
   "source": [
    "from PIL import Image\n",
    "from pathlib import Path\n",
    "\n",
    "# Define input and output folders\n",
    "input_dir = Path(\"202507220_input_images\")\n",
    "output_dir = Path(\"202507220_output_pdfs\")\n",
    "output_dir.mkdir(parents=True, exist_ok=True)\n",
    "\n",
    "# Valid image extensions\n",
    "valid_exts = [\".jpg\", \".jpeg\", \".png\", \".eps\"]\n",
    "\n",
    "# List to collect image objects for merging\n",
    "images_for_merge = []\n",
    "\n",
    "# Iterate over image files in the input folder\n",
    "for img_path in input_dir.glob(\"*\"):\n",
    "    if img_path.suffix.lower() in valid_exts:\n",
    "        # Open the image and convert to RGB (required for PDF)\n",
    "        img = Image.open(img_path).convert(\"RGB\")\n",
    "        \n",
    "        # Save individual PDF with proper prefix\n",
    "        pdf_name = output_dir / f\"202507220_{img_path.stem}.pdf\"\n",
    "        img.save(pdf_name, \"PDF\")\n",
    "\n",
    "        # Append to list for combined PDF\n",
    "        images_for_merge.append(img)\n",
    "\n",
    "# Save all images into a single PDF if any found\n",
    "if images_for_merge:\n",
    "    merged_pdf_path = output_dir / \"202507220_combined_images.pdf\"\n",
    "    images_for_merge[0].save(\n",
    "        merged_pdf_path,\n",
    "        save_all=True,\n",
    "        append_images=images_for_merge[1:]\n",
    "    )\n"
   ]
  }
 ],
 "metadata": {
  "kernelspec": {
   "display_name": "Python 3 (ipykernel)",
   "language": "python",
   "name": "python3"
  },
  "language_info": {
   "codemirror_mode": {
    "name": "ipython",
    "version": 3
   },
   "file_extension": ".py",
   "mimetype": "text/x-python",
   "name": "python",
   "nbconvert_exporter": "python",
   "pygments_lexer": "ipython3",
   "version": "3.12.3"
  }
 },
 "nbformat": 4,
 "nbformat_minor": 5
}
