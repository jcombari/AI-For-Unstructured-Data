{
 "cells": [
  {
   "cell_type": "code",
   "execution_count": null,
   "id": "b75b2730-4100-43ea-90b0-85002a2e4703",
   "metadata": {},
   "outputs": [],
   "source": []
  }
 ],
 "metadata": {
  "kernelspec": {
   "display_name": "",
   "name": ""
  },
  "language_info": {
   "name": ""
  }
 },
 "nbformat": 4,
 "nbformat_minor": 5
}
