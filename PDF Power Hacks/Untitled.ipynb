{
 "cells": [
  {
   "cell_type": "code",
   "execution_count": 20,
   "id": "adf3f3a9-801a-4944-8c84-af582f080a48",
   "metadata": {},
   "outputs": [],
   "source": [
    "from PyPDF2 import PdfMerger  # Import the PDF merger tool from PyPDF2\n",
    "from fpdf import FPDF          # Import the PDF generator class from fpdf\n",
    "import os                      # Import os for file system operations\n",
    "\n",
    "# 📆 Fixed date string used as prefix in filenames\n",
    "date_str = \"20250616\"\n",
    "\n",
    "# 📁 Create output folder to store the individual PDF files\n",
    "folder_name = f\"{date_str}_pdf_files\"\n",
    "os.makedirs(folder_name, exist_ok=True)  # Create folder if it doesn't exist\n",
    "\n",
    "# 🧾 Generate 3 individual PDF files and store them in the folder\n",
    "pdf_filenames = []  # List to hold the paths of generated PDFs\n",
    "\n",
    "for i in range(1, 4):\n",
    "    pdf = FPDF()  # Create a new PDF object\n",
    "    pdf.add_page()  # Add a new page to the PDF\n",
    "    pdf.set_font(\"Arial\", size=14)  # Set the font and size\n",
    "    \n",
    "    # Add a title to the PDF\n",
    "    pdf.cell(200, 10, txt=f\"Monthly Report {i}\", ln=True, align=\"C\")\n",
    "    pdf.ln(10)  # Add some vertical spacing\n",
    "    \n",
    "    # Add a multi-line body of dummy text\n",
    "    pdf.multi_cell(180, 10, txt=\"This section contains summarized data for our machine learning experiments, \"\n",
    "                                 \"including model accuracy, feature importance and observations. \"\n",
    "                                 \"Use these insights to inform next steps.\")\n",
    "    \n",
    "    # Construct the file path with prefix and index\n",
    "    filename = os.path.join(folder_name, f\"{date_str}_file{i}.pdf\")\n",
    "    pdf.output(filename)  # Save the PDF to the specified path\n",
    "    pdf_filenames.append(filename)  # Store the path for merging\n",
    "\n",
    "# 🧩 Merge the 3 generated PDF files into a single file stored outside the folder\n",
    "merger = PdfMerger()  # Initialize a new PDF merger object\n",
    "for filename in pdf_filenames:\n",
    "    merger.append(filename)  # Add each individual PDF to the merger\n",
    "\n",
    "# Define the output file name for the merged PDF, stored one level above the folder\n",
    "merged_filename = f\"{date_str}_merged.pdf\"\n",
    "merger.write(merged_filename)  # Write the merged PDF to disk\n",
    "merger.close()  # Close the merger object and finalize the file\n",
    "\n",
    "# ✅ Final result:\n",
    "# - Inside the '20250616_pdf_files' folder → 3 PDFs: 20250616_file1.pdf, file2.pdf, file3.pdf\n",
    "# - In the current directory (one level above) → 1 PDF: 20250616_merged.pdf"
   ]
  }
 ],
 "metadata": {
  "kernelspec": {
   "display_name": "Python 3 (ipykernel)",
   "language": "python",
   "name": "python3"
  },
  "language_info": {
   "codemirror_mode": {
    "name": "ipython",
    "version": 3
   },
   "file_extension": ".py",
   "mimetype": "text/x-python",
   "name": "python",
   "nbconvert_exporter": "python",
   "pygments_lexer": "ipython3",
   "version": "3.12.3"
  }
 },
 "nbformat": 4,
 "nbformat_minor": 5
}
