{
 "cells": [
  {
   "cell_type": "code",
   "execution_count": 49,
   "id": "447b751c-c215-4c20-ac10-868eab075d98",
   "metadata": {},
   "outputs": [
    {
     "name": "stdout",
     "output_type": "stream",
     "text": [
      "Generated: 20250701_big_text.png, 20250701_big_text.pdf, 20250701_ocr_output.txt\n"
     ]
    }
   ],
   "source": [
    "# 20250701_png_to_pdf_ocr.py\n",
    "# Generate a large-font PNG, embed it in a PDF at same size, convert back to image and OCR extract text.\n",
    "\n",
    "from PIL import Image, ImageDraw, ImageFont\n",
    "from reportlab.pdfgen import canvas\n",
    "from pdf2image import convert_from_path\n",
    "import pytesseract\n",
    "\n",
    "# 1. Create PNG with big text\n",
    "text = \"Hello OCR!\"\n",
    "font_size = 100\n",
    "\n",
    "# Intentar cargar una TTF; si falla, usar fuente por defecto\n",
    "try:\n",
    "    font = ImageFont.truetype(\"arial.ttf\", font_size)\n",
    "except (OSError, IOError):\n",
    "    font = ImageFont.load_default()\n",
    "    print(\"Warning: TrueType font unavailable, using default bitmap font.\")\n",
    "\n",
    "# Medir el texto con un Draw temporal\n",
    "tmp_img = Image.new(\"RGB\", (1, 1))\n",
    "tmp_draw = ImageDraw.Draw(tmp_img)\n",
    "bbox = tmp_draw.textbbox((0, 0), text, font=font)  # (x0, y0, x1, y1)\n",
    "w, h = bbox[2] - bbox[0], bbox[3] - bbox[1]\n",
    "\n",
    "# Crear la imagen definitiva con padding\n",
    "img = Image.new(\"RGB\", (w + 20, h + 20), \"white\")\n",
    "draw = ImageDraw.Draw(img)\n",
    "draw.text((10, 10), text, fill=\"black\", font=font)\n",
    "png_path = \"20250701_big_text.png\"\n",
    "img.save(png_path)\n",
    "\n",
    "# 2. Embed PNG in PDF at its native size\n",
    "pdf_path = \"20250701_big_text.pdf\"\n",
    "c = canvas.Canvas(pdf_path, pagesize=(w + 20, h + 20))\n",
    "c.drawImage(png_path, 0, 0, width=w + 20, height=h + 20)\n",
    "c.showPage()\n",
    "c.save()\n",
    "\n",
    "# 3. Convert PDF back to images\n",
    "pages = convert_from_path(pdf_path)\n",
    "\n",
    "# 4. OCR each page and save text\n",
    "ocr_text = \"\"\n",
    "for page in pages:\n",
    "    ocr_text += pytesseract.image_to_string(page) + \"\\n\"\n",
    "\n",
    "txt_path = \"20250701_ocr_output.txt\"\n",
    "with open(txt_path, \"w\", encoding=\"utf-8\") as f:\n",
    "    f.write(ocr_text)\n",
    "\n",
    "print(f\"Generated: {png_path}, {pdf_path}, {txt_path}\")\n"
   ]
  },
  {
   "cell_type": "code",
   "execution_count": null,
   "id": "5a2589a2-174a-4ab7-bfb0-bf0854934ef2",
   "metadata": {},
   "outputs": [],
   "source": []
  },
  {
   "cell_type": "code",
   "execution_count": 51,
   "id": "f0d7f641-a948-4e5e-ab5c-29c51369a415",
   "metadata": {},
   "outputs": [
    {
     "name": "stdout",
     "output_type": "stream",
     "text": [
      "Generated: 20250701_big_text.png, 20250701_big_text.pdf, 20250701_ocr_output.txt\n"
     ]
    }
   ],
   "source": [
    "# 20250701_png_to_pdf_ocr.py\n",
    "# Generate a large-font PNG (uncropped), embed it in a PDF at same size, convert back to image and OCR extract text.\n",
    "\n",
    "from PIL import Image, ImageDraw, ImageFont\n",
    "from reportlab.pdfgen import canvas\n",
    "from pdf2image import convert_from_path\n",
    "import pytesseract\n",
    "\n",
    "# 1. Create PNG with big text\n",
    "text = \"Hello OCR!\"\n",
    "font_size = 100\n",
    "\n",
    "# Try loading a TTF; fallback to default if unavailable\n",
    "try:\n",
    "    font = ImageFont.truetype(\"arial.ttf\", font_size)\n",
    "except (OSError, IOError):\n",
    "    font = ImageFont.load_default()\n",
    "\n",
    "# Measure text bounding box (may include negative offsets)\n",
    "tmp_img = Image.new(\"RGB\", (1, 1))\n",
    "tmp_draw = ImageDraw.Draw(tmp_img)\n",
    "x0, y0, x1, y1 = tmp_draw.textbbox((0, 0), text, font=font)\n",
    "w, h = x1 - x0, y1 - y0\n",
    "padding = 10\n",
    "\n",
    "# Create final image with padding and correct origin\n",
    "img = Image.new(\"RGB\", (w + padding*2, h + padding*2), \"white\")\n",
    "draw = ImageDraw.Draw(img)\n",
    "draw.text((padding - x0, padding - y0), text, fill=\"black\", font=font)  # shift by -x0,-y0 to avoid cropping\n",
    "\n",
    "png_path = \"20250701_big_text.png\"\n",
    "img.save(png_path)\n",
    "\n",
    "# 2. Embed PNG in PDF at its native size\n",
    "pdf_path = \"20250701_big_text.pdf\"\n",
    "c = canvas.Canvas(pdf_path, pagesize=(w + padding*2, h + padding*2))\n",
    "c.drawImage(png_path, 0, 0, width=w + padding*2, height=h + padding*2)\n",
    "c.showPage()\n",
    "c.save()\n",
    "\n",
    "# 3. Convert PDF back to images\n",
    "pages = convert_from_path(pdf_path)\n",
    "\n",
    "# 4. OCR each page and save text\n",
    "ocr_text = \"\"\n",
    "for page in pages:\n",
    "    ocr_text += pytesseract.image_to_string(page) + \"\\n\"\n",
    "\n",
    "txt_path = \"20250701_ocr_output.txt\"\n",
    "with open(txt_path, \"w\", encoding=\"utf-8\") as f:\n",
    "    f.write(ocr_text)\n",
    "\n",
    "print(f\"Generated: {png_path}, {pdf_path}, {txt_path}\")\n",
    "\n"
   ]
  }
 ],
 "metadata": {
  "kernelspec": {
   "display_name": "Python 3 (ipykernel)",
   "language": "python",
   "name": "python3"
  },
  "language_info": {
   "codemirror_mode": {
    "name": "ipython",
    "version": 3
   },
   "file_extension": ".py",
   "mimetype": "text/x-python",
   "name": "python",
   "nbconvert_exporter": "python",
   "pygments_lexer": "ipython3",
   "version": "3.12.3"
  }
 },
 "nbformat": 4,
 "nbformat_minor": 5
}
