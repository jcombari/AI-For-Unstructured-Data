{
 "cells": [
  {
   "cell_type": "code",
   "execution_count": 18,
   "id": "adf3f3a9-801a-4944-8c84-af582f080a48",
   "metadata": {},
   "outputs": [],
   "source": [
    "from PyPDF2 import PdfMerger\n",
    "from fpdf import FPDF\n",
    "import os\n",
    "\n",
    "# 📆 Fecha fija usada como prefijo\n",
    "date_str = \"20250616\"\n",
    "\n",
    "# 📁 Carpeta de salida\n",
    "folder_name = f\"{date_str}_pdf_files\"\n",
    "os.makedirs(folder_name, exist_ok=True)\n",
    "\n",
    "# 🧾 Crear 3 archivos PDF dentro de la carpeta\n",
    "pdf_filenames = []\n",
    "\n",
    "for i in range(1, 4):\n",
    "    pdf = FPDF()\n",
    "    pdf.add_page()\n",
    "    pdf.set_font(\"Arial\", size=14)\n",
    "\n",
    "    # Contenido del archivo\n",
    "    pdf.cell(200, 10, txt=f\"Monthly Report {i}\", ln=True, align=\"C\")\n",
    "    pdf.ln(10)\n",
    "    pdf.multi_cell(180, 10, txt=\"This section contains summarized data for our machine learning experiments, \"\n",
    "                                 \"including model accuracy, feature importance and observations. \"\n",
    "                                 \"Use these insights to inform next steps.\")\n",
    "\n",
    "    # Ruta con nombre adecuado dentro de la carpeta\n",
    "    filename = os.path.join(folder_name, f\"{date_str}_file{i}.pdf\")\n",
    "    pdf.output(filename)\n",
    "    pdf_filenames.append(filename)\n",
    "\n",
    "# 🧩 Unir los PDFs en un archivo fuera de la carpeta\n",
    "merger = PdfMerger()\n",
    "for filename in pdf_filenames:\n",
    "    merger.append(filename)\n",
    "\n",
    "# Archivo final fuera de la carpeta\n",
    "merged_filename = f\"{date_str}_merged.pdf\"\n",
    "merger.write(merged_filename)\n",
    "merger.close()\n",
    "\n",
    "# ✅ Resultado:\n",
    "# - Dentro de '20250616_pdf_files' → 3 archivos: 20250616_file1.pdf, ...file2.pdf, ...file3.pdf\n",
    "# - En el mismo nivel → 1 archivo: 20250616_merged.pdf\n"
   ]
  }
 ],
 "metadata": {
  "kernelspec": {
   "display_name": "Python 3 (ipykernel)",
   "language": "python",
   "name": "python3"
  },
  "language_info": {
   "codemirror_mode": {
    "name": "ipython",
    "version": 3
   },
   "file_extension": ".py",
   "mimetype": "text/x-python",
   "name": "python",
   "nbconvert_exporter": "python",
   "pygments_lexer": "ipython3",
   "version": "3.12.3"
  }
 },
 "nbformat": 4,
 "nbformat_minor": 5
}
