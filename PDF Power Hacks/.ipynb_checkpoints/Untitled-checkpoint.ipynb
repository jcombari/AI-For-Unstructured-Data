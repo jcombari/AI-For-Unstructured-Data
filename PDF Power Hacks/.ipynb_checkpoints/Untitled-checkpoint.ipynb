{
 "cells": [
  {
   "cell_type": "code",
   "execution_count": null,
   "id": "6ee2a95e-de40-48d2-9fa7-25e4773b6dc4",
   "metadata": {},
   "outputs": [],
   "source": [
    "from PyPDF2 import PdfWriter, PdfReader\n",
    "from reportlab.pdfgen import canvas\n",
    "from reportlab.lib.pagesizes import letter\n",
    "import io\n",
    "\n",
    "# Create a sample PDF with numbered pages for demonstration\n",
    "def create_sample_pdf(path, total_pages=5):\n",
    "    writer = PdfWriter()\n",
    "    for i in range(1, total_pages + 1):\n",
    "        packet = io.BytesIO()\n",
    "        can = canvas.Canvas(packet, pagesize=letter)\n",
    "        can.drawString(100, 750, f\"Page {i}\")\n",
    "        can.save()\n",
    "        packet.seek(0)\n",
    "        new_pdf = PdfReader(packet)\n",
    "        writer.add_page(new_pdf.pages[0])\n",
    "    with open(path, \"wb\") as f:\n",
    "        writer.write(f)\n",
    "\n",
    "# Create the PDF to work with\n",
    "sample_pdf_path = \"20250618_sample.pdf\"\n",
    "create_sample_pdf(sample_pdf_path)\n",
    "\n",
    "# Load the created PDF using PdfReader\n",
    "reader = PdfReader(sample_pdf_path)\n",
    "\n",
    "# Remove specific pages by index (for example, 1 and 3)\n",
    "# Note: Index starts at 0\n",
    "# If you remove index 1 first, the original page 3 becomes index 2\n",
    "reader.pages.pop(3)  # Removes original page 4\n",
    "reader.pages.pop(1)  # Removes original page 2\n",
    "\n",
    "# Save the cleaned PDF into a new file\n",
    "output_writer = PdfWriter()\n",
    "for page in reader.pages:\n",
    "    output_writer.add_page(page)\n",
    "\n",
    "with open(\"cleaned_sample.pdf\", \"wb\") as f:\n",
    "    output_writer.write(f)\n"
   ]
  }
 ],
 "metadata": {
  "kernelspec": {
   "display_name": "Python 3 (ipykernel)",
   "language": "python",
   "name": "python3"
  },
  "language_info": {
   "codemirror_mode": {
    "name": "ipython",
    "version": 3
   },
   "file_extension": ".py",
   "mimetype": "text/x-python",
   "name": "python",
   "nbconvert_exporter": "python",
   "pygments_lexer": "ipython3",
   "version": "3.12.3"
  }
 },
 "nbformat": 4,
 "nbformat_minor": 5
}
