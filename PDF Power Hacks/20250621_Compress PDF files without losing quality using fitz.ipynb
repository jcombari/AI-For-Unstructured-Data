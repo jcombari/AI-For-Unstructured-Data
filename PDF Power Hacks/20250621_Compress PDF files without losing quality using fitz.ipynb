{
 "cells": [
  {
   "cell_type": "code",
   "execution_count": 19,
   "id": "af38d9ea-6c40-4679-862c-ec603035316d",
   "metadata": {},
   "outputs": [
    {
     "name": "stdout",
     "output_type": "stream",
     "text": [
      "Original file size: 128.75 MB\n",
      "Compressed file size: 0.25 MB\n"
     ]
    }
   ],
   "source": [
    "import fitz  # PyMuPDF\n",
    "import os\n",
    "from PIL import Image\n",
    "from io import BytesIO\n",
    "\n",
    "# Step 1: Create large PNG images (larger size for heavier PDF)\n",
    "def generate_large_images(image_count=5, width=3000, height=3000):\n",
    "    images = []\n",
    "    for i in range(image_count):\n",
    "        img = Image.new(\"RGB\", (width, height), (i * 30 % 255, i * 60 % 255, i * 90 % 255))\n",
    "        img_bytes = BytesIO()\n",
    "        # Guardar como PNG sin compresión para aumentar tamaño\n",
    "        img.save(img_bytes, format='PNG', compress_level=0)\n",
    "        img_bytes.seek(0)\n",
    "        images.append(img_bytes.getvalue())\n",
    "    return images\n",
    "\n",
    "# Step 2: Create the original PDF with PNG images (bigger file)\n",
    "def create_heavy_pdf(images, output_path=\"20250623_original_file.pdf\"):\n",
    "    doc = fitz.open()\n",
    "    for img_bytes in images:\n",
    "        img = Image.open(BytesIO(img_bytes))\n",
    "        rect = fitz.Rect(0, 0, img.width, img.height)\n",
    "        page = doc.new_page(width=img.width, height=img.height)\n",
    "        page.insert_image(rect, stream=img_bytes)\n",
    "    doc.save(output_path)\n",
    "    doc.close()\n",
    "\n",
    "# Step 3: Compress the PDF with JPEG and resizing\n",
    "def compress_pdf(input_path, output_path, image_quality=50, image_scale=0.4):\n",
    "    doc = fitz.open(input_path)\n",
    "    for page_index in range(len(doc)):\n",
    "        page = doc[page_index]\n",
    "        images = page.get_images(full=True)\n",
    "        for img in images:\n",
    "            xref = img[0]\n",
    "            base_image = doc.extract_image(xref)\n",
    "            image_bytes = base_image[\"image\"]\n",
    "            image = Image.open(BytesIO(image_bytes))\n",
    "\n",
    "            # Resize and compress\n",
    "            width, height = image.size\n",
    "            new_size = (int(width * image_scale), int(height * image_scale))\n",
    "            image = image.resize(new_size, Image.Resampling.LANCZOS).convert(\"RGB\")\n",
    "\n",
    "            compressed_image_bytes = BytesIO()\n",
    "            image.save(compressed_image_bytes, format=\"JPEG\", quality=image_quality)\n",
    "\n",
    "            rect = page.rect\n",
    "            page.clean_contents()\n",
    "            page.insert_image(rect, stream=compressed_image_bytes.getvalue())\n",
    "\n",
    "    doc.save(output_path, deflate=True)\n",
    "    doc.close()\n",
    "\n",
    "# Run the process\n",
    "images = generate_large_images()\n",
    "create_heavy_pdf(images, \"20250623_original_file.pdf\")\n",
    "\n",
    "input_pdf = \"20250623_original_file.pdf\"\n",
    "output_pdf = \"20250623_compressed_file.pdf\"\n",
    "\n",
    "compress_pdf(input_pdf, output_pdf)\n",
    "\n",
    "# Display results\n",
    "original_size = os.path.getsize(input_pdf) / (1024 * 1024)\n",
    "compressed_size = os.path.getsize(output_pdf) / (1024 * 1024)\n",
    "\n",
    "print(f\"Original file size: {original_size:.2f} MB\")\n",
    "print(f\"Compressed file size: {compressed_size:.2f} MB\")\n"
   ]
  }
 ],
 "metadata": {
  "kernelspec": {
   "display_name": "Python 3 (ipykernel)",
   "language": "python",
   "name": "python3"
  },
  "language_info": {
   "codemirror_mode": {
    "name": "ipython",
    "version": 3
   },
   "file_extension": ".py",
   "mimetype": "text/x-python",
   "name": "python",
   "nbconvert_exporter": "python",
   "pygments_lexer": "ipython3",
   "version": "3.12.3"
  }
 },
 "nbformat": 4,
 "nbformat_minor": 5
}
