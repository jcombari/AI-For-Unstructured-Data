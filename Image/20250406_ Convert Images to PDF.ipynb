{
 "cells": [
  {
   "cell_type": "code",
   "execution_count": 5,
   "id": "a12cc205-fb87-4636-a238-b2f6c8bcd0cf",
   "metadata": {},
   "outputs": [
    {
     "ename": "TypeError",
     "evalue": "expected str, bytes or os.PathLike object, not BytesIO",
     "output_type": "error",
     "traceback": [
      "\u001b[1;31m---------------------------------------------------------------------------\u001b[0m",
      "\u001b[1;31mTypeError\u001b[0m                                 Traceback (most recent call last)",
      "Cell \u001b[1;32mIn[5], line 51\u001b[0m\n\u001b[0;32m     49\u001b[0m \u001b[38;5;66;03m# Step 3: Run the complete workflow\u001b[39;00m\n\u001b[0;32m     50\u001b[0m sample_images \u001b[38;5;241m=\u001b[39m create_sample_images(num_images\u001b[38;5;241m=\u001b[39m\u001b[38;5;241m5\u001b[39m)\n\u001b[1;32m---> 51\u001b[0m images_to_pdf(sample_images)\n",
      "Cell \u001b[1;32mIn[5], line 44\u001b[0m, in \u001b[0;36mimages_to_pdf\u001b[1;34m(images, output_path)\u001b[0m\n\u001b[0;32m     41\u001b[0m     img_buffer\u001b[38;5;241m.\u001b[39mseek(\u001b[38;5;241m0\u001b[39m)\n\u001b[0;32m     43\u001b[0m     \u001b[38;5;66;03m# Draw the image to the canvas\u001b[39;00m\n\u001b[1;32m---> 44\u001b[0m     c\u001b[38;5;241m.\u001b[39mdrawImage(img_buffer, \u001b[38;5;241m50\u001b[39m, \u001b[38;5;241m200\u001b[39m, width\u001b[38;5;241m=\u001b[39m\u001b[38;5;241m500\u001b[39m, preserveAspectRatio\u001b[38;5;241m=\u001b[39m\u001b[38;5;28;01mTrue\u001b[39;00m, mask\u001b[38;5;241m=\u001b[39m\u001b[38;5;124m'\u001b[39m\u001b[38;5;124mauto\u001b[39m\u001b[38;5;124m'\u001b[39m)\n\u001b[0;32m     45\u001b[0m     c\u001b[38;5;241m.\u001b[39mshowPage()  \u001b[38;5;66;03m# Move to the next page\u001b[39;00m\n\u001b[0;32m     47\u001b[0m c\u001b[38;5;241m.\u001b[39msave()\n",
      "File \u001b[1;32m~\\anaconda3\\Lib\\site-packages\\reportlab\\pdfgen\\canvas.py:1005\u001b[0m, in \u001b[0;36mCanvas.drawImage\u001b[1;34m(self, image, x, y, width, height, mask, preserveAspectRatio, anchor, anchorAtXY, showBoundary, extraReturn)\u001b[0m\n\u001b[0;32m   1002\u001b[0m imgObj \u001b[38;5;241m=\u001b[39m \u001b[38;5;28mself\u001b[39m\u001b[38;5;241m.\u001b[39m_doc\u001b[38;5;241m.\u001b[39midToObject\u001b[38;5;241m.\u001b[39mget(regName, \u001b[38;5;28;01mNone\u001b[39;00m)\n\u001b[0;32m   1003\u001b[0m \u001b[38;5;28;01mif\u001b[39;00m \u001b[38;5;129;01mnot\u001b[39;00m imgObj:\n\u001b[0;32m   1004\u001b[0m     \u001b[38;5;66;03m#first time seen, create and register the PDFImageXobject\u001b[39;00m\n\u001b[1;32m-> 1005\u001b[0m     imgObj \u001b[38;5;241m=\u001b[39m pdfdoc\u001b[38;5;241m.\u001b[39mPDFImageXObject(name, image, mask\u001b[38;5;241m=\u001b[39mmask)\n\u001b[0;32m   1006\u001b[0m     imgObj\u001b[38;5;241m.\u001b[39mname \u001b[38;5;241m=\u001b[39m name\n\u001b[0;32m   1007\u001b[0m     \u001b[38;5;28mself\u001b[39m\u001b[38;5;241m.\u001b[39m_setXObjects(imgObj)\n",
      "File \u001b[1;32m~\\anaconda3\\Lib\\site-packages\\reportlab\\pdfbase\\pdfdoc.py:2108\u001b[0m, in \u001b[0;36mPDFImageXObject.__init__\u001b[1;34m(self, name, source, mask)\u001b[0m\n\u001b[0;32m   2105\u001b[0m \u001b[38;5;28;01melse\u001b[39;00m:\n\u001b[0;32m   2106\u001b[0m     \u001b[38;5;66;03m# it is a filename\u001b[39;00m\n\u001b[0;32m   2107\u001b[0m     \u001b[38;5;28;01mimport\u001b[39;00m \u001b[38;5;21;01mos\u001b[39;00m\n\u001b[1;32m-> 2108\u001b[0m     ext \u001b[38;5;241m=\u001b[39m os\u001b[38;5;241m.\u001b[39mpath\u001b[38;5;241m.\u001b[39msplitext(source)[\u001b[38;5;241m1\u001b[39m]\u001b[38;5;241m.\u001b[39mlower()\n\u001b[0;32m   2109\u001b[0m     src \u001b[38;5;241m=\u001b[39m open_for_read(source)\n\u001b[0;32m   2110\u001b[0m     \u001b[38;5;28;01mtry\u001b[39;00m:\n",
      "File \u001b[1;32m<frozen ntpath>:258\u001b[0m, in \u001b[0;36msplitext\u001b[1;34m(p)\u001b[0m\n",
      "\u001b[1;31mTypeError\u001b[0m: expected str, bytes or os.PathLike object, not BytesIO"
     ]
    }
   ],
   "source": [
    "from PIL import Image, ImageDraw, ImageFont\n",
    "from reportlab.pdfgen import canvas\n",
    "from reportlab.lib.pagesizes import A4\n",
    "import io\n",
    "import random\n",
    "\n",
    "# Step 1: Generate synthetic images with Pillow\n",
    "def create_sample_images(num_images=5):\n",
    "    images = []\n",
    "    for i in range(num_images):\n",
    "        # Create a blank white image\n",
    "        img = Image.new('RGB', (600, 400), color=(255, 255, 255))\n",
    "        \n",
    "        # Draw text onto the image\n",
    "        draw = ImageDraw.Draw(img)\n",
    "        text = f\"Sample Image {i+1}\"\n",
    "        \n",
    "        # Load default font\n",
    "        try:\n",
    "            font = ImageFont.truetype(\"arial.ttf\", 24)\n",
    "        except:\n",
    "            font = ImageFont.load_default()\n",
    "        \n",
    "        draw.text((150, 180), text, fill=(0, 0, 0), font=font)\n",
    "        \n",
    "        # Store image in memory\n",
    "        images.append(img)\n",
    "    \n",
    "    return images\n",
    "\n",
    "# Step 2: Convert the images to a PDF using reportlab\n",
    "def images_to_pdf(images, output_path=\"output.pdf\"):\n",
    "    # Create a PDF canvas\n",
    "    c = canvas.Canvas(output_path, pagesize=A4)\n",
    "    width, height = A4\n",
    "    \n",
    "    for img in images:\n",
    "        # Save the Pillow image into a BytesIO buffer\n",
    "        img_buffer = io.BytesIO()\n",
    "        img.save(img_buffer, format='PNG')\n",
    "        img_buffer.seek(0)\n",
    "        \n",
    "        # Draw the image to the canvas\n",
    "        c.drawImage(img_buffer, 50, 200, width=500, preserveAspectRatio=True, mask='auto')\n",
    "        c.showPage()  # Move to the next page\n",
    "    \n",
    "    c.save()\n",
    "\n",
    "# Step 3: Run the complete workflow\n",
    "sample_images = create_sample_images(num_images=5)\n",
    "images_to_pdf(sample_images)\n",
    "\n"
   ]
  },
  {
   "cell_type": "code",
   "execution_count": 3,
   "id": "38ee111e-d45c-4079-a2f2-b2f21f7ab179",
   "metadata": {},
   "outputs": [
    {
     "name": "stdout",
     "output_type": "stream",
     "text": [
      "Collecting reportlab\n",
      "  Downloading reportlab-4.3.1-py3-none-any.whl.metadata (1.7 kB)\n",
      "Requirement already satisfied: pillow>=9.0.0 in c:\\users\\jenny\\anaconda3\\lib\\site-packages (from reportlab) (10.4.0)\n",
      "Requirement already satisfied: chardet in c:\\users\\jenny\\anaconda3\\lib\\site-packages (from reportlab) (3.0.4)\n",
      "Downloading reportlab-4.3.1-py3-none-any.whl (1.9 MB)\n",
      "   ---------------------------------------- 0.0/1.9 MB ? eta -:--:--\n",
      "   ---------------------------------------- 1.9/1.9 MB 26.8 MB/s eta 0:00:00\n",
      "Installing collected packages: reportlab\n",
      "Successfully installed reportlab-4.3.1\n"
     ]
    }
   ],
   "source": [
    "!pip install reportlab\n",
    "\n"
   ]
  }
 ],
 "metadata": {
  "kernelspec": {
   "display_name": "Python 3 (ipykernel)",
   "language": "python",
   "name": "python3"
  },
  "language_info": {
   "codemirror_mode": {
    "name": "ipython",
    "version": 3
   },
   "file_extension": ".py",
   "mimetype": "text/x-python",
   "name": "python",
   "nbconvert_exporter": "python",
   "pygments_lexer": "ipython3",
   "version": "3.12.3"
  }
 },
 "nbformat": 4,
 "nbformat_minor": 5
}
