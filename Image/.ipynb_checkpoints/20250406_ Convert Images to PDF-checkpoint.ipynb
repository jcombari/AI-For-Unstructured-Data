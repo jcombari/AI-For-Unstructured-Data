{
 "cells": [
  {
   "cell_type": "code",
   "execution_count": 1,
   "id": "a12cc205-fb87-4636-a238-b2f6c8bcd0cf",
   "metadata": {},
   "outputs": [
    {
     "ename": "ModuleNotFoundError",
     "evalue": "No module named 'reportlab'",
     "output_type": "error",
     "traceback": [
      "\u001b[1;31m---------------------------------------------------------------------------\u001b[0m",
      "\u001b[1;31mModuleNotFoundError\u001b[0m                       Traceback (most recent call last)",
      "Cell \u001b[1;32mIn[1], line 2\u001b[0m\n\u001b[0;32m      1\u001b[0m \u001b[38;5;28;01mfrom\u001b[39;00m \u001b[38;5;21;01mPIL\u001b[39;00m \u001b[38;5;28;01mimport\u001b[39;00m Image, ImageDraw, ImageFont\n\u001b[1;32m----> 2\u001b[0m \u001b[38;5;28;01mfrom\u001b[39;00m \u001b[38;5;21;01mreportlab\u001b[39;00m\u001b[38;5;21;01m.\u001b[39;00m\u001b[38;5;21;01mpdfgen\u001b[39;00m \u001b[38;5;28;01mimport\u001b[39;00m canvas\n\u001b[0;32m      3\u001b[0m \u001b[38;5;28;01mfrom\u001b[39;00m \u001b[38;5;21;01mreportlab\u001b[39;00m\u001b[38;5;21;01m.\u001b[39;00m\u001b[38;5;21;01mlib\u001b[39;00m\u001b[38;5;21;01m.\u001b[39;00m\u001b[38;5;21;01mpagesizes\u001b[39;00m \u001b[38;5;28;01mimport\u001b[39;00m A4\n\u001b[0;32m      4\u001b[0m \u001b[38;5;28;01mimport\u001b[39;00m \u001b[38;5;21;01mio\u001b[39;00m\n",
      "\u001b[1;31mModuleNotFoundError\u001b[0m: No module named 'reportlab'"
     ]
    }
   ],
   "source": [
    "from PIL import Image, ImageDraw, ImageFont\n",
    "from reportlab.pdfgen import canvas\n",
    "from reportlab.lib.pagesizes import A4\n",
    "import io\n",
    "import random\n",
    "\n",
    "# Step 1: Generate synthetic images with Pillow\n",
    "def create_sample_images(num_images=5):\n",
    "    images = []\n",
    "    for i in range(num_images):\n",
    "        # Create a blank white image\n",
    "        img = Image.new('RGB', (600, 400), color=(255, 255, 255))\n",
    "        \n",
    "        # Draw text onto the image\n",
    "        draw = ImageDraw.Draw(img)\n",
    "        text = f\"Sample Image {i+1}\"\n",
    "        \n",
    "        # Load default font\n",
    "        try:\n",
    "            font = ImageFont.truetype(\"arial.ttf\", 24)\n",
    "        except:\n",
    "            font = ImageFont.load_default()\n",
    "        \n",
    "        draw.text((150, 180), text, fill=(0, 0, 0), font=font)\n",
    "        \n",
    "        # Store image in memory\n",
    "        images.append(img)\n",
    "    \n",
    "    return images\n",
    "\n",
    "# Step 2: Convert the images to a PDF using reportlab\n",
    "def images_to_pdf(images, output_path=\"output.pdf\"):\n",
    "    # Create a PDF canvas\n",
    "    c = canvas.Canvas(output_path, pagesize=A4)\n",
    "    width, height = A4\n",
    "    \n",
    "    for img in images:\n",
    "        # Save the Pillow image into a BytesIO buffer\n",
    "        img_buffer = io.BytesIO()\n",
    "        img.save(img_buffer, format='PNG')\n",
    "        img_buffer.seek(0)\n",
    "        \n",
    "        # Draw the image to the canvas\n",
    "        c.drawImage(img_buffer, 50, 200, width=500, preserveAspectRatio=True, mask='auto')\n",
    "        c.showPage()  # Move to the next page\n",
    "    \n",
    "    c.save()\n",
    "\n",
    "# Step 3: Run the complete workflow\n",
    "sample_images = create_sample_images(num_images=5)\n",
    "images_to_pdf(sample_images)\n",
    "\n"
   ]
  }
 ],
 "metadata": {
  "kernelspec": {
   "display_name": "Python 3 (ipykernel)",
   "language": "python",
   "name": "python3"
  },
  "language_info": {
   "codemirror_mode": {
    "name": "ipython",
    "version": 3
   },
   "file_extension": ".py",
   "mimetype": "text/x-python",
   "name": "python",
   "nbconvert_exporter": "python",
   "pygments_lexer": "ipython3",
   "version": "3.12.3"
  }
 },
 "nbformat": 4,
 "nbformat_minor": 5
}
