{
 "cells": [
  {
   "cell_type": "code",
   "execution_count": 5,
   "id": "784ad17e-dc34-461c-9be6-3de7624bf9ff",
   "metadata": {},
   "outputs": [
    {
     "name": "stdout",
     "output_type": "stream",
     "text": [
      "Imagen guardada en binary_overlay.png\n"
     ]
    }
   ],
   "source": [
    "from PIL import Image, ImageDraw, ImageFont\n",
    "import numpy as np\n",
    "\n",
    "def generate_binary_image(width=800, height=600, font_size=20, output_path='binary_overlay.png'):\n",
    "    # Crear una imagen con canal alfa (transparente)\n",
    "    img = Image.new('RGBA', (width, height), (0, 0, 0, 0))  # Fondo transparente\n",
    "    draw = ImageDraw.Draw(img)\n",
    "    \n",
    "    # Cargar fuente (usa una fuente monoespaciada para mejor efecto)\n",
    "    try:\n",
    "        font = ImageFont.truetype(\"arial.ttf\", font_size)\n",
    "    except:\n",
    "        font = ImageFont.load_default()\n",
    "    \n",
    "    # Calcular cuántos caracteres caben en la imagen\n",
    "    cols = width // font_size\n",
    "    rows = height // font_size\n",
    "    \n",
    "    # Generar la matriz de código binario\n",
    "    binary_matrix = np.random.choice(['0', '1'], size=(rows, cols))\n",
    "    \n",
    "    # Dibujar los caracteres en la imagen\n",
    "    for i, row in enumerate(binary_matrix):\n",
    "        for j, char in enumerate(row):\n",
    "            x = j * font_size\n",
    "            y = i * font_size\n",
    "            draw.text((x, y), char, font=font, fill=(0, 255, 0, 255))  # Color verde estilo Matrix\n",
    "    \n",
    "    # Guardar la imagen con fondo transparente\n",
    "    img.save(output_path, 'PNG')\n",
    "    print(f\"Imagen guardada en {output_path}\")\n",
    "\n",
    "# Ejecutar la función\n",
    "generate_binary_image()\n"
   ]
  }
 ],
 "metadata": {
  "kernelspec": {
   "display_name": "Python 3 (ipykernel)",
   "language": "python",
   "name": "python3"
  },
  "language_info": {
   "codemirror_mode": {
    "name": "ipython",
    "version": 3
   },
   "file_extension": ".py",
   "mimetype": "text/x-python",
   "name": "python",
   "nbconvert_exporter": "python",
   "pygments_lexer": "ipython3",
   "version": "3.12.3"
  }
 },
 "nbformat": 4,
 "nbformat_minor": 5
}
