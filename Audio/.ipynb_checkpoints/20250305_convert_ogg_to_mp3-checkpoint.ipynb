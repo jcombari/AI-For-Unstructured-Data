{
 "cells": [
  {
   "cell_type": "markdown",
   "id": "97405955-612f-45e0-ae38-69f884ef8f1c",
   "metadata": {},
   "source": [
    "# `convert_ogg_to_mp3.py`\n",
    "\n",
    "This Python script converts an audio file from the `.ogg` format to the `.mp3` format using the `pydub` library.\n",
    "\n",
    "## Steps:\n",
    "1. The script loads an `.ogg` audio file using the `AudioSegment` class from the `pydub` library.\n",
    "2. It then exports the loaded audio into a new `.mp3` file.\n",
    "3. After the conversion is successful, a confirmation message is printed.\n",
    "\n",
    "## Requirements:\n",
    "- `pydub` library: Used for audio processing.\n",
    "- `ffmpeg`: Required by `pydub` to handle different audio formats like `.ogg` and `.mp3`.\n",
    "\n",
    "## Example Usage:\n",
    "1. Replace `\"archivo.ogg\"` with the path to your input `.ogg` file.\n",
    "2. The converted `.mp3` file will be saved as `\"archivo_convertido.mp3\"` by default (you can change the name).\n",
    "\n",
    "### Installation:\n",
    "To install the required libraries:\n",
    "\n",
    "```bash\n",
    "pip install pydub\n"
   ]
  },
  {
   "cell_type": "code",
   "execution_count": 1,
   "id": "71981bee-0c1e-44b9-b9d0-f59af0091e4e",
   "metadata": {},
   "outputs": [
    {
     "name": "stderr",
     "output_type": "stream",
     "text": [
      "C:\\Users\\jenny\\anaconda3\\Lib\\site-packages\\pydub\\utils.py:300: SyntaxWarning: invalid escape sequence '\\('\n",
      "  m = re.match('([su]([0-9]{1,2})p?) \\(([0-9]{1,2}) bit\\)$', token)\n",
      "C:\\Users\\jenny\\anaconda3\\Lib\\site-packages\\pydub\\utils.py:301: SyntaxWarning: invalid escape sequence '\\('\n",
      "  m2 = re.match('([su]([0-9]{1,2})p?)( \\(default\\))?$', token)\n",
      "C:\\Users\\jenny\\anaconda3\\Lib\\site-packages\\pydub\\utils.py:310: SyntaxWarning: invalid escape sequence '\\('\n",
      "  elif re.match('(flt)p?( \\(default\\))?$', token):\n",
      "C:\\Users\\jenny\\anaconda3\\Lib\\site-packages\\pydub\\utils.py:314: SyntaxWarning: invalid escape sequence '\\('\n",
      "  elif re.match('(dbl)p?( \\(default\\))?$', token):\n"
     ]
    },
    {
     "ename": "FileNotFoundError",
     "evalue": "[Errno 2] No such file or directory: 'archivo.ogg'",
     "output_type": "error",
     "traceback": [
      "\u001b[1;31m---------------------------------------------------------------------------\u001b[0m",
      "\u001b[1;31mFileNotFoundError\u001b[0m                         Traceback (most recent call last)",
      "Cell \u001b[1;32mIn[1], line 4\u001b[0m\n\u001b[0;32m      1\u001b[0m \u001b[38;5;28;01mfrom\u001b[39;00m \u001b[38;5;21;01mpydub\u001b[39;00m \u001b[38;5;28;01mimport\u001b[39;00m AudioSegment  \u001b[38;5;66;03m# Import the AudioSegment class from pydub module\u001b[39;00m\n\u001b[0;32m      3\u001b[0m \u001b[38;5;66;03m# Load the .ogg file using AudioSegment's from_ogg method\u001b[39;00m\n\u001b[1;32m----> 4\u001b[0m audio \u001b[38;5;241m=\u001b[39m AudioSegment\u001b[38;5;241m.\u001b[39mfrom_ogg(\u001b[38;5;124m\"\u001b[39m\u001b[38;5;124marchivo.ogg\u001b[39m\u001b[38;5;124m\"\u001b[39m)\n\u001b[0;32m      5\u001b[0m \u001b[38;5;66;03m# The \"archivo.ogg\" is the name of the original audio file you want to convert. \u001b[39;00m\n\u001b[0;32m      6\u001b[0m \u001b[38;5;66;03m# You can replace this with the path to your own .ogg file.\u001b[39;00m\n\u001b[0;32m      7\u001b[0m \n\u001b[0;32m      8\u001b[0m \u001b[38;5;66;03m# Export the audio to a new .mp3 file\u001b[39;00m\n\u001b[0;32m      9\u001b[0m audio\u001b[38;5;241m.\u001b[39mexport(\u001b[38;5;124m\"\u001b[39m\u001b[38;5;124marchivo_convertido.mp3\u001b[39m\u001b[38;5;124m\"\u001b[39m, \u001b[38;5;28mformat\u001b[39m\u001b[38;5;241m=\u001b[39m\u001b[38;5;124m\"\u001b[39m\u001b[38;5;124mmp3\u001b[39m\u001b[38;5;124m\"\u001b[39m)\n",
      "File \u001b[1;32m~\\anaconda3\\Lib\\site-packages\\pydub\\audio_segment.py:804\u001b[0m, in \u001b[0;36mAudioSegment.from_ogg\u001b[1;34m(cls, file, parameters)\u001b[0m\n\u001b[0;32m    802\u001b[0m \u001b[38;5;129m@classmethod\u001b[39m\n\u001b[0;32m    803\u001b[0m \u001b[38;5;28;01mdef\u001b[39;00m \u001b[38;5;21mfrom_ogg\u001b[39m(\u001b[38;5;28mcls\u001b[39m, file, parameters\u001b[38;5;241m=\u001b[39m\u001b[38;5;28;01mNone\u001b[39;00m):\n\u001b[1;32m--> 804\u001b[0m     \u001b[38;5;28;01mreturn\u001b[39;00m \u001b[38;5;28mcls\u001b[39m\u001b[38;5;241m.\u001b[39mfrom_file(file, \u001b[38;5;124m'\u001b[39m\u001b[38;5;124mogg\u001b[39m\u001b[38;5;124m'\u001b[39m, parameters\u001b[38;5;241m=\u001b[39mparameters)\n",
      "File \u001b[1;32m~\\anaconda3\\Lib\\site-packages\\pydub\\audio_segment.py:651\u001b[0m, in \u001b[0;36mAudioSegment.from_file\u001b[1;34m(cls, file, format, codec, parameters, start_second, duration, **kwargs)\u001b[0m\n\u001b[0;32m    649\u001b[0m \u001b[38;5;28;01mexcept\u001b[39;00m \u001b[38;5;167;01mTypeError\u001b[39;00m:\n\u001b[0;32m    650\u001b[0m     filename \u001b[38;5;241m=\u001b[39m \u001b[38;5;28;01mNone\u001b[39;00m\n\u001b[1;32m--> 651\u001b[0m file, close_file \u001b[38;5;241m=\u001b[39m _fd_or_path_or_tempfile(file, \u001b[38;5;124m'\u001b[39m\u001b[38;5;124mrb\u001b[39m\u001b[38;5;124m'\u001b[39m, tempfile\u001b[38;5;241m=\u001b[39m\u001b[38;5;28;01mFalse\u001b[39;00m)\n\u001b[0;32m    653\u001b[0m \u001b[38;5;28;01mif\u001b[39;00m \u001b[38;5;28mformat\u001b[39m:\n\u001b[0;32m    654\u001b[0m     \u001b[38;5;28mformat\u001b[39m \u001b[38;5;241m=\u001b[39m \u001b[38;5;28mformat\u001b[39m\u001b[38;5;241m.\u001b[39mlower()\n",
      "File \u001b[1;32m~\\anaconda3\\Lib\\site-packages\\pydub\\utils.py:60\u001b[0m, in \u001b[0;36m_fd_or_path_or_tempfile\u001b[1;34m(fd, mode, tempfile)\u001b[0m\n\u001b[0;32m     57\u001b[0m     close_fd \u001b[38;5;241m=\u001b[39m \u001b[38;5;28;01mTrue\u001b[39;00m\n\u001b[0;32m     59\u001b[0m \u001b[38;5;28;01mif\u001b[39;00m \u001b[38;5;28misinstance\u001b[39m(fd, basestring):\n\u001b[1;32m---> 60\u001b[0m     fd \u001b[38;5;241m=\u001b[39m \u001b[38;5;28mopen\u001b[39m(fd, mode\u001b[38;5;241m=\u001b[39mmode)\n\u001b[0;32m     61\u001b[0m     close_fd \u001b[38;5;241m=\u001b[39m \u001b[38;5;28;01mTrue\u001b[39;00m\n\u001b[0;32m     63\u001b[0m \u001b[38;5;28;01mtry\u001b[39;00m:\n",
      "\u001b[1;31mFileNotFoundError\u001b[0m: [Errno 2] No such file or directory: 'archivo.ogg'"
     ]
    }
   ],
   "source": [
    "from pydub import AudioSegment  # Import the AudioSegment class from pydub module\n",
    "\n",
    "# Load the .ogg file using AudioSegment's from_ogg method\n",
    "audio = AudioSegment.from_ogg(\"20250305_archivo.ogg\")\n",
    "# The \"archivo.ogg\" is the name of the original audio file you want to convert. \n",
    "# You can replace this with the path to your own .ogg file.\n",
    "\n",
    "# Export the audio to a new .mp3 file\n",
    "audio.export(\"archivo_convertido.mp3\", format=\"mp3\")\n",
    "# The \"archivo_convertido.mp3\" is the name of the new file that will be created as the output in MP3 format.\n",
    "# You can replace it with your desired file name.\n",
    "\n",
    "# Print a message indicating that the conversion is complete\n",
    "print(\"The conversion was successful.\")\n",
    "# This message will be printed once the file has been successfully converted to .mp3\n",
    "\n"
   ]
  }
 ],
 "metadata": {
  "kernelspec": {
   "display_name": "Python 3 (ipykernel)",
   "language": "python",
   "name": "python3"
  },
  "language_info": {
   "codemirror_mode": {
    "name": "ipython",
    "version": 3
   },
   "file_extension": ".py",
   "mimetype": "text/x-python",
   "name": "python",
   "nbconvert_exporter": "python",
   "pygments_lexer": "ipython3",
   "version": "3.12.3"
  }
 },
 "nbformat": 4,
 "nbformat_minor": 5
}
