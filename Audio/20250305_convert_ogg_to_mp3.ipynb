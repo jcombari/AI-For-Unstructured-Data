{
 "cells": [
  {
   "cell_type": "markdown",
   "id": "97405955-612f-45e0-ae38-69f884ef8f1c",
   "metadata": {},
   "source": [
    "# `convert_ogg_to_mp3.py`\n",
    "\n",
    "This Python script converts an audio file from the `.ogg` format to the `.mp3` format using the `pydub` library.\n",
    "\n",
    "## Steps:\n",
    "1. The script loads an `.ogg` audio file using the `AudioSegment` class from the `pydub` library.\n",
    "2. It then exports the loaded audio into a new `.mp3` file.\n",
    "3. After the conversion is successful, a confirmation message is printed.\n",
    "\n",
    "## Requirements:\n",
    "- `pydub` library: Used for audio processing.\n",
    "- `ffmpeg`: Required by `pydub` to handle different audio formats like `.ogg` and `.mp3`.\n",
    "\n",
    "## Example Usage:\n",
    "1. Replace `\"archivo.ogg\"` with the path to your input `.ogg` file.\n",
    "2. The converted `.mp3` file will be saved as `\"archivo_convertido.mp3\"` by default (you can change the name).\n",
    "\n",
    "### Installation:\n",
    "To install the required libraries:\n",
    "\n",
    "```bash\n",
    "pip install pydub\n"
   ]
  },
  {
   "cell_type": "code",
   "execution_count": 4,
   "id": "71981bee-0c1e-44b9-b9d0-f59af0091e4e",
   "metadata": {},
   "outputs": [
    {
     "name": "stdout",
     "output_type": "stream",
     "text": [
      "The conversion was successful.\n"
     ]
    }
   ],
   "source": [
    "from pydub import AudioSegment  # Import the AudioSegment class from pydub module\n",
    "\n",
    "# Load the .ogg file using AudioSegment's from_ogg method\n",
    "audio = AudioSegment.from_ogg(\"20250305_archivo.ogg\")\n",
    "# The \"archivo.ogg\" is the name of the original audio file you want to convert. \n",
    "# You can replace this with the path to your own .ogg file.\n",
    "\n",
    "# Export the audio to a new .mp3 file\n",
    "audio.export(\"archivo_convertido.mp3\", format=\"mp3\")\n",
    "# The \"archivo_convertido.mp3\" is the name of the new file that will be created as the output in MP3 format.\n",
    "# You can replace it with your desired file name.\n",
    "\n",
    "# Print a message indicating that the conversion is complete\n",
    "print(\"The conversion was successful.\")\n",
    "# This message will be printed once the file has been successfully converted to .mp3\n",
    "\n"
   ]
  }
 ],
 "metadata": {
  "kernelspec": {
   "display_name": "Python 3 (ipykernel)",
   "language": "python",
   "name": "python3"
  },
  "language_info": {
   "codemirror_mode": {
    "name": "ipython",
    "version": 3
   },
   "file_extension": ".py",
   "mimetype": "text/x-python",
   "name": "python",
   "nbconvert_exporter": "python",
   "pygments_lexer": "ipython3",
   "version": "3.12.3"
  }
 },
 "nbformat": 4,
 "nbformat_minor": 5
}
