{
 "cells": [
  {
   "cell_type": "code",
   "execution_count": null,
   "id": "6a72dbd6-68fa-4cf2-b7a5-47ab6f7ba88d",
   "metadata": {},
   "outputs": [],
   "source": []
  }
 ],
 "metadata": {
  "kernelspec": {
   "display_name": "Python [conda env:.conda-project]",
   "language": "python",
   "name": "conda-env-.conda-project-py"
  },
  "language_info": {
   "name": ""
  }
 },
 "nbformat": 4,
 "nbformat_minor": 5
}
