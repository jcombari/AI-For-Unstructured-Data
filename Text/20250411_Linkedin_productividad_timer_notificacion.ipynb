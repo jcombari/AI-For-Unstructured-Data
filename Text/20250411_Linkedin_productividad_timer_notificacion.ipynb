{
 "cells": [
  {
   "cell_type": "markdown",
   "id": "a7d137d1-8464-4d46-bac3-856005327976",
   "metadata": {},
   "source": [
    "# 🐍 Python | ⏱️ How focused are you today? Measure it with a smart timer\n",
    "\n",
    "## ❓ Ever wondered if your brain performs better in the morning or afternoon?\n",
    "🙃 Let’s use Python to find out.\n",
    "\n",
    "## 👉 We built an interactive timer\n",
    "It not only alerts you, but also measures your **response time** after the notification. This helps track your **cognitive latency** throughout the day.\n",
    "\n",
    "## 🔧 How does it work?\n",
    "- Every time the alert goes off, you hit **Enter**.\n",
    "- Python logs your reaction time and stores it in a **CSV** 📁.\n",
    "- We then use **pandas** to analyze patterns in your mental performance.\n",
    "\n",
    "## 🔎 Why it matters\n",
    "A recent study  \n",
    "📚 **“Diurnal variation in variables related to cognitive performance: a systematic review”**  \n",
    "✍️ *Madhavi Munnilari, et al. (2023)*  \n",
    "📰 *Sleep and Breathing*  \n",
    "🔗 [https://doi.org/10.1007/s11325-023-02895-0](https://doi.org/10.1007/s11325-023-02895-0)  \n",
    "📄 PMID: 37589927 | PMCID: PMC10955027\n",
    "\n",
    "This paper showed that cognitive abilities like **focus and working memory fluctuate** during the day.  \n",
    "Lightweight tools like this help identify your **peak mental hours** 🧠.\n",
    "\n",
    "## ✨ Real example\n",
    "🏢 A tech team used this to plan sprint coding sessions and found their peak focus was ~3 hours after their first meal of the day.\n",
    "\n",
    "## ⚙️ Business impact\n",
    "- 🕐 Optimize technical meetings  \n",
    "- 🧩 Improve cognitive task planning  \n",
    "- 📈 Boost productivity with real data\n",
    "\n",
    "## 📊 What the code does\n",
    "- ⚡ Sends alerts  \n",
    "- ⌛ Captures response times  \n",
    "- 📁 Saves the data  \n",
    "- 📉 Analyzes it with pandas  \n",
    "- 📌 Visualizes best focus hours\n",
    "\n",
    "## 🔗 [Github](https://github.com/jcombari/AI-For-Unstructured-Data/tree/main)\n",
    "\n",
    "## 💭 Reflection\n",
    "**Dare to find your peak brainpower moments?** 🔎  \n",
    "Follow for more ideas where **brain meets code** 🧠💡\n",
    "\n",
    "🔑 #DataScience #Productivity #Python #Neuroscience #Focus #MachineLearning #AI #DeepWork #YoungInTech #Programming\n",
    "\n",
    "\n",
    "---\n",
    "\n",
    "\n",
    "# 🐍 Python | ⏱️ ¿Cuánta atención tienes hoy? Analízalo con este temporizador inteligente\n",
    "\n",
    "## ❓ ¿Alguna vez te has preguntado si rindes igual mentalmente en la mañana que en la tarde?\n",
    "🙃 Vamos a descubrirlo con Python.\n",
    "\n",
    "## 👉 Creamos un temporizador inteligente\n",
    "Un pequeño experimento personal que mide **tu tiempo de reacción** ante una alerta. Así puedes observar cómo cambia tu **atención** durante el día.\n",
    "\n",
    "## 🔧 ¿Cómo funciona?\n",
    "💡 El temporizador lanza alertas aleatorias.  \n",
    "⏱️ Tú solo debes presionar Enter.  \n",
    "📁 Se guarda el tiempo de respuesta en un archivo CSV.  \n",
    "📊 Usamos pandas para detectar patrones.\n",
    "\n",
    "## 🔎 ¿Por qué importa?\n",
    "🧠 Un estudio científico lo respalda:  \n",
    "📚 **“Diurnal variation in variables related to cognitive performance: a systematic review”**  \n",
    "✍️ *Madhavi Munnilari, et al. (2023)*  \n",
    "📰 *Sleep and Breathing*  \n",
    "🔗 [https://doi.org/10.1007/s11325-023-02895-0](https://doi.org/10.1007/s11325-023-02895-0)  \n",
    "📄 PMID: 37589927 | PMCID: PMC10955027\n",
    "\n",
    "Este paper demuestra que nuestras funciones cognitivas **no son constantes**.  \n",
    "Saber **cuándo** estás más alerta puede ayudarte a optimizar tus horas de trabajo más intensivo.\n",
    "\n",
    "## ✨ Ejemplo real\n",
    "🏢 Un equipo tech identificó sus horas pico de concentración (~3 horas después de la primera comida del día) y reorganizó sus sesiones de desarrollo para maximizar resultados.\n",
    "\n",
    "## ⚙️ Impacto en el negocio\n",
    "🕐 Optimiza reuniones técnicas  \n",
    "🧩 Mejora planificación de tareas cognitivas  \n",
    "📈 Incrementa productividad basada en datos\n",
    "\n",
    "## 📊 Resumen de qué se hace en el código\n",
    "⚡ Lanza alertas  \n",
    "⌛ Mide tiempo de respuesta  \n",
    "📁 Guarda resultados en CSV  \n",
    "📉 Analiza los datos con pandas  \n",
    "📌 Visualiza los momentos de mejor enfoque\n",
    "\n",
    "🔗 [Github](https://github.com/jcombari/AI-For-Unstructured-Data/tree/main)\n",
    "\n",
    "💭 Reflexión\n",
    "¿Te atreves a descubrir tu mejor momento del día para brillar?  \n",
    "Sígueme para más ideas donde el código y el cerebro se encuentran 🤖🧠✨\n",
    "\n",
    "🔑 #DataScience #Productividad #Python #Neurociencia #Atención #MachineLearning #IA #DesarrolloPersonal #CienciaDeDatos #JóvenesEnTech #Programación\n"
   ]
  },
  {
   "cell_type": "code",
   "execution_count": 3,
   "id": "12150647-0055-4add-81e5-36c2b13a9f8a",
   "metadata": {},
   "outputs": [
    {
     "name": "stdout",
     "output_type": "stream",
     "text": [
      "Cognitive Latency Timer 🔔\n",
      "Wait for the alert and press Enter as soon as you see it.\n",
      "\n",
      "🔔 Test 1: Press Enter NOW!\n"
     ]
    },
    {
     "name": "stdin",
     "output_type": "stream",
     "text": [
      " \n"
     ]
    },
    {
     "name": "stdout",
     "output_type": "stream",
     "text": [
      "⏱️ Your reaction time: 2.503 seconds\n",
      "\n",
      "🔔 Test 2: Press Enter NOW!\n"
     ]
    },
    {
     "name": "stdin",
     "output_type": "stream",
     "text": [
      " \n"
     ]
    },
    {
     "name": "stdout",
     "output_type": "stream",
     "text": [
      "⏱️ Your reaction time: 3.457 seconds\n",
      "\n",
      "🔔 Test 3: Press Enter NOW!\n"
     ]
    },
    {
     "name": "stdin",
     "output_type": "stream",
     "text": [
      " \n"
     ]
    },
    {
     "name": "stdout",
     "output_type": "stream",
     "text": [
      "⏱️ Your reaction time: 604.670 seconds\n",
      "\n",
      "🔔 Test 4: Press Enter NOW!\n"
     ]
    },
    {
     "name": "stdin",
     "output_type": "stream",
     "text": [
      " \n"
     ]
    },
    {
     "name": "stdout",
     "output_type": "stream",
     "text": [
      "⏱️ Your reaction time: 1.141 seconds\n",
      "\n",
      "🔔 Test 5: Press Enter NOW!\n"
     ]
    },
    {
     "name": "stdin",
     "output_type": "stream",
     "text": [
      " \n"
     ]
    },
    {
     "name": "stdout",
     "output_type": "stream",
     "text": [
      "⏱️ Your reaction time: 4.976 seconds\n",
      "\n"
     ]
    },
    {
     "data": {
      "image/png": "[encoded data removed]",
      "text/plain": [
       "<Figure size 1000x500 with 1 Axes>"
      ]
     },
     "metadata": {},
     "output_type": "display_data"
    }
   ],
   "source": [
    "import time\n",
    "import random  # ✅ Import the correct module\n",
    "import pandas as pd\n",
    "from datetime import datetime\n",
    "import matplotlib.pyplot as plt\n",
    "\n",
    "# Create an empty list to store each response record\n",
    "response_data = []\n",
    "\n",
    "# Set how many tests we want to run\n",
    "num_tests = 5\n",
    "\n",
    "print(\"Cognitive Latency Timer 🔔\")\n",
    "print(\"Wait for the alert and press Enter as soon as you see it.\\n\")\n",
    "\n",
    "for i in range(num_tests):\n",
    "    # ✅ Use random.randint instead of time.randint\n",
    "    wait_time = random.randint(3, 7)\n",
    "    time.sleep(wait_time)\n",
    "    \n",
    "    # Show the alert\n",
    "    print(f\"🔔 Test {i+1}: Press Enter NOW!\")\n",
    "    start = time.time()\n",
    "    \n",
    "    # Wait for user to press Enter\n",
    "    input()\n",
    "    end = time.time()\n",
    "    \n",
    "    # Calculate reaction time\n",
    "    reaction_time = end - start\n",
    "    \n",
    "    # Record the timestamp and reaction time\n",
    "    response_data.append({\n",
    "        'timestamp': datetime.now(),\n",
    "        'reaction_time_sec': reaction_time\n",
    "    })\n",
    "    print(f\"⏱️ Your reaction time: {reaction_time:.3f} seconds\\n\")\n",
    "\n",
    "# Convert the data into a pandas DataFrame\n",
    "df = pd.DataFrame(response_data)\n",
    "\n",
    "# Save the data to a CSV file\n",
    "df.to_csv(\"reaction_times.csv\", index=False)\n",
    "\n",
    "# Analyze the data: Plot reaction time across trials\n",
    "plt.figure(figsize=(10, 5))\n",
    "plt.plot(df['timestamp'], df['reaction_time_sec'], marker='o', linestyle='--', color='purple')\n",
    "plt.title(\"Cognitive Latency Over Time\")\n",
    "plt.xlabel(\"Timestamp\")\n",
    "plt.ylabel(\"Reaction Time (sec)\")\n",
    "plt.xticks(rotation=45)\n",
    "plt.grid(True)\n",
    "plt.tight_layout()\n",
    "plt.show()\n"
   ]
  }
 ],
 "metadata": {
  "kernelspec": {
   "display_name": "Python 3 (ipykernel)",
   "language": "python",
   "name": "python3"
  },
  "language_info": {
   "codemirror_mode": {
    "name": "ipython",
    "version": 3
   },
   "file_extension": ".py",
   "mimetype": "text/x-python",
   "name": "python",
   "nbconvert_exporter": "python",
   "pygments_lexer": "ipython3",
   "version": "3.12.3"
  }
 },
 "nbformat": 4,
 "nbformat_minor": 5
}
