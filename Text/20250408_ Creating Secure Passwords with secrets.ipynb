{
 "cells": [
  {
   "cell_type": "code",
   "execution_count": null,
   "id": "2ba6edb9-861d-442e-af43-478d697e41f3",
   "metadata": {},
   "outputs": [],
   "source": [
    "import secrets\n",
    "import string\n",
    "import matplotlib.pyplot as plt\n",
    "\n",
    "# Define the components of a strong password\n",
    "letters = string.ascii_letters\n",
    "digits = string.digits\n",
    "special_chars = string.punctuation\n",
    "\n",
    "# Combine all characters\n",
    "alphabet = letters + digits + special_chars\n",
    "\n",
    "# Define function to generate a secure password\n",
    "def generate_secure_password(length=16):\n",
    "    # Securely choose random characters from the alphabet\n",
    "    return ''.join(secrets.choice(alphabet) for _ in range(length))\n",
    "\n",
    "# Generate a list of secure passwords\n",
    "secure_passwords = [generate_secure_password() for _ in range(100)]\n",
    "\n",
    "# Define a list of common passwords (as baseline comparison)\n",
    "common_passwords = [\"123456\", \"password\", \"123456789\", \"qwerty\", \"abc123\", \"111111\", \"letmein\", \"welcome\"]\n",
    "\n",
    "# Define a function to calculate password strength (entropy approximation)\n",
    "def password_entropy(password):\n",
    "    unique_chars = len(set(password))\n",
    "    return len(password) * (unique_chars / len(alphabet)) * 4  # simplified entropy formula\n",
    "\n",
    "# Calculate entropy scores\n",
    "secure_scores = [password_entropy(p) for p in secure_passwords]\n",
    "common_scores = [password_entropy(p) for p in common_passwords]\n",
    "\n",
    "# Plot the results\n",
    "plt.figure(figsize=(10, 6))\n",
    "plt.hist(secure_scores, bins=10, alpha=0.7, label='🔐 Secure Passwords', color='green')\n",
    "plt.bar(range(len(common_scores)), common_scores, alpha=0.7, label='⚠️ Common Passwords', color='red')\n",
    "plt.xticks(range(len(common_passwords)), common_passwords, rotation=45)\n",
    "plt.title('Password Strength Comparison')\n",
    "plt.ylabel('Entropy Score')\n",
    "plt.legend()\n",
    "plt.grid(True)\n",
    "plt.tight_layout()\n",
    "plt.show()\n"
   ]
  }
 ],
 "metadata": {
  "kernelspec": {
   "display_name": "Python 3 (ipykernel)",
   "language": "python",
   "name": "python3"
  },
  "language_info": {
   "codemirror_mode": {
    "name": "ipython",
    "version": 3
   },
   "file_extension": ".py",
   "mimetype": "text/x-python",
   "name": "python",
   "nbconvert_exporter": "python",
   "pygments_lexer": "ipython3",
   "version": "3.12.3"
  }
 },
 "nbformat": 4,
 "nbformat_minor": 5
}
