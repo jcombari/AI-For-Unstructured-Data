{
 "cells": [
  {
   "cell_type": "code",
   "execution_count": null,
   "id": "86057a92-a824-4559-b718-b102be9467e7",
   "metadata": {},
   "outputs": [],
   "source": [
    "20250521_Language Detection in Texts with langdetect"
   ]
  },
  {
   "cell_type": "code",
   "execution_count": null,
   "id": "4f628d1d-c3c7-45fc-895b-c1dbfd7d9db5",
   "metadata": {},
   "outputs": [],
   "source": []
  }
 ],
 "metadata": {
  "kernelspec": {
   "display_name": "Python 3 (ipykernel)",
   "language": "python",
   "name": "python3"
  },
  "language_info": {
   "codemirror_mode": {
    "name": "ipython",
    "version": 3
   },
   "file_extension": ".py",
   "mimetype": "text/x-python",
   "name": "python",
   "nbconvert_exporter": "python",
   "pygments_lexer": "ipython3",
   "version": "3.12.3"
  }
 },
 "nbformat": 4,
 "nbformat_minor": 5
}
