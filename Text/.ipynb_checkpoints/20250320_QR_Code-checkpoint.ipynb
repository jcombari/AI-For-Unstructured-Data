{
 "cells": [
  {
   "cell_type": "code",
   "execution_count": 3,
   "id": "fffe8808-8b24-4b00-aba8-6bb0b43be171",
   "metadata": {},
   "outputs": [
    {
     "name": "stdout",
     "output_type": "stream",
     "text": [
      "Collecting qrcode\n",
      "  Downloading qrcode-8.0-py3-none-any.whl.metadata (17 kB)\n",
      "Requirement already satisfied: colorama in c:\\users\\jenny\\anaconda3\\lib\\site-packages (from qrcode) (0.4.6)\n",
      "Downloading qrcode-8.0-py3-none-any.whl (45 kB)\n",
      "Installing collected packages: qrcode\n",
      "Successfully installed qrcode-8.0\n"
     ]
    }
   ],
   "source": [
    "!pip install qrcode"
   ]
  },
  {
   "cell_type": "code",
   "execution_count": 5,
   "id": "5cdc78e7-e96d-43ed-b18c-a4aa3d2ac44e",
   "metadata": {},
   "outputs": [
    {
     "name": "stdout",
     "output_type": "stream",
     "text": [
      "QR code generated and saved as 'wifi_qr.png'. Scan it to connect automatically.\n"
     ]
    }
   ],
   "source": [
    "import qrcode  # Import the qrcode library\n",
    "\n",
    "# WiFi network details\n",
    "ssid = \"vodafoneAC48_5G\"  # Replace with your WiFi network name (SSID)\n",
    "password = \"YTZ2YTNJVTNZZY\"  # Replace with your WiFi password\n",
    "encryption = \"WPA\"  # Encryption type: WPA, WEP, or leave empty for an open network\n",
    "\n",
    "# WiFi QR code format (recognized by most mobile devices)\n",
    "wifi_config = f\"WIFI:T:{encryption};S:{ssid};P:{password};;\"\n",
    "\n",
    "# Generate the QR code\n",
    "qr = qrcode.make(wifi_config)\n",
    "\n",
    "# Save the QR code as an image file\n",
    "qr.save(\"wifi_qr.png\")\n",
    "\n",
    "print(\"QR code generated and saved as 'wifi_qr.png'. Scan it to connect automatically.\")\n",
    "\n"
   ]
  }
 ],
 "metadata": {
  "kernelspec": {
   "display_name": "Python 3 (ipykernel)",
   "language": "python",
   "name": "python3"
  },
  "language_info": {
   "codemirror_mode": {
    "name": "ipython",
    "version": 3
   },
   "file_extension": ".py",
   "mimetype": "text/x-python",
   "name": "python",
   "nbconvert_exporter": "python",
   "pygments_lexer": "ipython3",
   "version": "3.12.3"
  }
 },
 "nbformat": 4,
 "nbformat_minor": 5
}
