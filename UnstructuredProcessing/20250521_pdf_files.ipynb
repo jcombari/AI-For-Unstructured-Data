{
 "cells": [
  {
   "cell_type": "code",
   "execution_count": 5,
   "id": "61c137fb-a7fa-47cb-b842-d56f9c6759b1",
   "metadata": {},
   "outputs": [
    {
     "name": "stdout",
     "output_type": "stream",
     "text": [
      "PDFs merged into merged_pdf.pdf\n"
     ]
    }
   ],
   "source": [
    "import os\n",
    "from PyPDF2 import PdfMerger\n",
    "\n",
    "def merge_pdfs_in_folder(folder_path, output_name):\n",
    "    merger = PdfMerger()\n",
    "\n",
    "    # List all PDF files in the folder\n",
    "    pdf_files = [f for f in os.listdir(folder_path) if f.endswith('.pdf')]\n",
    "    pdf_files.sort()  # Optional: sort alphabetically\n",
    "\n",
    "    for pdf_file in pdf_files:\n",
    "        pdf_path = os.path.join(folder_path, pdf_file)\n",
    "        merger.append(pdf_path)\n",
    "\n",
    "    merger.write(output_name)\n",
    "    merger.close()\n",
    "    print(f\"PDFs merged into {output_name}\")\n",
    "\n",
    "# Folder to read PDFs from (relative to the script location)\n",
    "folder = \"20250521_pdf_files\"\n",
    "output_file = \"merged_pdf.pdf\"\n",
    "\n",
    "merge_pdfs_in_folder(folder, output_file)\n"
   ]
  },
  {
   "cell_type": "code",
   "execution_count": 3,
   "id": "b53fb1a7-fdd4-4003-993b-30f6a1171d5f",
   "metadata": {},
   "outputs": [
    {
     "name": "stdout",
     "output_type": "stream",
     "text": [
      "Collecting PyPDF2\n",
      "  Downloading pypdf2-3.0.1-py3-none-any.whl.metadata (6.8 kB)\n",
      "Downloading pypdf2-3.0.1-py3-none-any.whl (232 kB)\n",
      "Installing collected packages: PyPDF2\n",
      "Successfully installed PyPDF2-3.0.1\n"
     ]
    },
    {
     "name": "stderr",
     "output_type": "stream",
     "text": [
      "\n",
      "[notice] A new release of pip is available: 25.0.1 -> 25.1.1\n",
      "[notice] To update, run: python.exe -m pip install --upgrade pip\n"
     ]
    }
   ],
   "source": [
    "!pip install PyPDF2"
   ]
  }
 ],
 "metadata": {
  "kernelspec": {
   "display_name": "Python 3 (ipykernel)",
   "language": "python",
   "name": "python3"
  },
  "language_info": {
   "codemirror_mode": {
    "name": "ipython",
    "version": 3
   },
   "file_extension": ".py",
   "mimetype": "text/x-python",
   "name": "python",
   "nbconvert_exporter": "python",
   "pygments_lexer": "ipython3",
   "version": "3.12.3"
  }
 },
 "nbformat": 4,
 "nbformat_minor": 5
}
