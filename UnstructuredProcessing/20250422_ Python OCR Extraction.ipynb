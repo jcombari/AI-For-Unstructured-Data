{
 "cells": [
  {
   "cell_type": "code",
   "execution_count": 2,
   "id": "33880f6e-4c6b-4bdf-811c-769b60eee1d7",
   "metadata": {},
   "outputs": [
    {
     "ename": "OSError",
     "evalue": "[Errno 22] Invalid argument: 'C:\\\\Users\\\\jenny\\\\Documents\\\\GITHUB\\\\AI-For-Unstructured-Data\\\\UnstructuredProcessing\\\\https:\\\\example.com\\\\your_image.jpg'",
     "output_type": "error",
     "traceback": [
      "\u001b[1;31m---------------------------------------------------------------------------\u001b[0m",
      "\u001b[1;31mOSError\u001b[0m                                   Traceback (most recent call last)",
      "Cell \u001b[1;32mIn[2], line 20\u001b[0m\n\u001b[0;32m     17\u001b[0m image_path \u001b[38;5;241m=\u001b[39m \u001b[38;5;124m'\u001b[39m\u001b[38;5;124mhttps://example.com/your_image.jpg\u001b[39m\u001b[38;5;124m'\u001b[39m\n\u001b[0;32m     19\u001b[0m \u001b[38;5;66;03m# Call the function and extract text\u001b[39;00m\n\u001b[1;32m---> 20\u001b[0m text \u001b[38;5;241m=\u001b[39m extract_text_from_image(image_path)\n\u001b[0;32m     22\u001b[0m \u001b[38;5;66;03m# Show the image and extracted text\u001b[39;00m\n\u001b[0;32m     23\u001b[0m image \u001b[38;5;241m=\u001b[39m Image\u001b[38;5;241m.\u001b[39mopen(image_path)\n",
      "Cell \u001b[1;32mIn[2], line 9\u001b[0m, in \u001b[0;36mextract_text_from_image\u001b[1;34m(image_path)\u001b[0m\n\u001b[0;32m      7\u001b[0m \u001b[38;5;28;01mdef\u001b[39;00m \u001b[38;5;21mextract_text_from_image\u001b[39m(image_path):\n\u001b[0;32m      8\u001b[0m     \u001b[38;5;66;03m# Open the image using PIL (Python Imaging Library)\u001b[39;00m\n\u001b[1;32m----> 9\u001b[0m     image \u001b[38;5;241m=\u001b[39m Image\u001b[38;5;241m.\u001b[39mopen(image_path)\n\u001b[0;32m     11\u001b[0m     \u001b[38;5;66;03m# Use pytesseract to extract text\u001b[39;00m\n\u001b[0;32m     12\u001b[0m     extracted_text \u001b[38;5;241m=\u001b[39m pytesseract\u001b[38;5;241m.\u001b[39mimage_to_string(image)\n",
      "File \u001b[1;32m~\\anaconda3\\Lib\\site-packages\\PIL\\Image.py:3431\u001b[0m, in \u001b[0;36mopen\u001b[1;34m(fp, mode, formats)\u001b[0m\n\u001b[0;32m   3428\u001b[0m     filename \u001b[38;5;241m=\u001b[39m os\u001b[38;5;241m.\u001b[39mpath\u001b[38;5;241m.\u001b[39mrealpath(os\u001b[38;5;241m.\u001b[39mfspath(fp))\n\u001b[0;32m   3430\u001b[0m \u001b[38;5;28;01mif\u001b[39;00m filename:\n\u001b[1;32m-> 3431\u001b[0m     fp \u001b[38;5;241m=\u001b[39m builtins\u001b[38;5;241m.\u001b[39mopen(filename, \u001b[38;5;124m\"\u001b[39m\u001b[38;5;124mrb\u001b[39m\u001b[38;5;124m\"\u001b[39m)\n\u001b[0;32m   3432\u001b[0m     exclusive_fp \u001b[38;5;241m=\u001b[39m \u001b[38;5;28;01mTrue\u001b[39;00m\n\u001b[0;32m   3433\u001b[0m \u001b[38;5;28;01melse\u001b[39;00m:\n",
      "\u001b[1;31mOSError\u001b[0m: [Errno 22] Invalid argument: 'C:\\\\Users\\\\jenny\\\\Documents\\\\GITHUB\\\\AI-For-Unstructured-Data\\\\UnstructuredProcessing\\\\https:\\\\example.com\\\\your_image.jpg'"
     ]
    }
   ],
   "source": [
    "# Import necessary libraries\n",
    "import pytesseract\n",
    "from PIL import Image\n",
    "import matplotlib.pyplot as plt\n",
    "\n",
    "# Function to extract text from an image\n",
    "def extract_text_from_image(image_path):\n",
    "    # Open the image using PIL (Python Imaging Library)\n",
    "    image = Image.open(image_path)\n",
    "\n",
    "    # Use pytesseract to extract text\n",
    "    extracted_text = pytesseract.image_to_string(image)\n",
    "\n",
    "    return extracted_text\n",
    "\n",
    "# Load an example image from an online source (replace with your image path)\n",
    "image_path = 'https://example.com/your_image.jpg'\n",
    "\n",
    "# Call the function and extract text\n",
    "text = extract_text_from_image(image_path)\n",
    "\n",
    "# Show the image and extracted text\n",
    "image = Image.open(image_path)\n",
    "plt.imshow(image)\n",
    "plt.axis('off')  # Hide the axes for a cleaner view\n",
    "plt.show()\n",
    "\n",
    "# Print extracted text\n",
    "print(\"Extracted Text from Image:\")\n",
    "print(text)\n",
    "\n",
    "# Save extracted text into a text file\n",
    "with open(\"extracted_text.txt\", \"w\") as file:\n",
    "    file.write(text)\n"
   ]
  }
 ],
 "metadata": {
  "kernelspec": {
   "display_name": "Python 3 (ipykernel)",
   "language": "python",
   "name": "python3"
  },
  "language_info": {
   "codemirror_mode": {
    "name": "ipython",
    "version": 3
   },
   "file_extension": ".py",
   "mimetype": "text/x-python",
   "name": "python",
   "nbconvert_exporter": "python",
   "pygments_lexer": "ipython3",
   "version": "3.12.3"
  }
 },
 "nbformat": 4,
 "nbformat_minor": 5
}
