{
 "cells": [
  {
   "cell_type": "markdown",
   "id": "ec0c25f0-1cbf-4ff9-a3ea-5aa4253d8b00",
   "metadata": {},
   "source": [
    "# 🐍 Automate your WhatsApp Messages with Python 💬\n",
    "\n",
    "Have you ever wanted to schedule WhatsApp messages and forget about manual sending?\n",
    "\n",
    "✨ **Automate repetitive tasks and save time with code.**\n",
    "\n",
    "👉 **Solution:** `pywhatkit` allows you to send WhatsApp messages from Python without opening the app.\n",
    "\n",
    "🔧 **How does it work?**  \n",
    "Load your data (contacts, messages, and schedules), and Python handles the rest for you.\n",
    "\n",
    "🔎 **Why does it matter?**  \n",
    "With this technique, you can:  \n",
    "✉️ Create personalized reminders  \n",
    "📅 Schedule recurring communications  \n",
    "📢 Automate small marketing campaigns\n",
    "\n",
    "✨ **Real Example or Practical Case:**  \n",
    "Imagine you want to automatically send order status updates to online store customers 📦. With this approach, it’s done *hands-free*.\n",
    "\n",
    "⚙️ **Business impact:**  \n",
    "⏰ Saves operational time  \n",
    "📈 Improves customer communication  \n",
    "🤖 Smart automation of daily tasks\n",
    "\n",
    "📊 **Code summary:**  \n",
    "✔️ Automatically generates test phone numbers  \n",
    "✔️ Configures messages and schedules  \n",
    "✔️ Executes scheduled WhatsApp Web sends\n",
    "\n",
    "🔗 [Github](https://github.com/jcombari/AI-For-Unstructured-Data/tree/main)\n",
    "\n",
    "💭 **Reflection:**  \n",
    "How would you use this automation in your daily life? Let me know👇\n",
    "\n",
    "#python #automation #whatsapp #machinelearning #productivity #data #ai #generativeai #datacommunity #datascience #transformation #technology\n",
    "\n",
    "🔁 If you found this post useful, feel free to share it with your network.  \n",
    "⚠️ Please do not copy or repost it as your own. Respect original work.\n"
   ]
  },
  {
   "cell_type": "code",
   "execution_count": 1,
   "id": "1887e756-eda6-4492-b247-d821f34a29bd",
   "metadata": {},
   "outputs": [
    {
     "name": "stdout",
     "output_type": "stream",
     "text": [
      "In 77 Seconds WhatsApp will open and after 15 Seconds Message will be Delivered!\n"
     ]
    }
   ],
   "source": [
    "# 📌 AUTOMATE WHATSAPP MESSAGES USING pywhatkit\n",
    "\n",
    "# Import the required library\n",
    "import pywhatkit as kit\n",
    "from datetime import datetime, timedelta\n",
    "\n",
    "# Example contact number in international format (dummy number)\n",
    "phone_number = \"+34123456789\"\n",
    "\n",
    "# Example message to be sent\n",
    "message = \"🚀 Reminder: Your order has been shipped! 📦\"\n",
    "\n",
    "# Get current time and set the message to be sent 2 minutes from now\n",
    "now = datetime.now()\n",
    "send_time_hour = now.hour\n",
    "send_time_minute = (now.minute + 2) % 60  # Adds 2 minutes to current time\n",
    "\n",
    "# Schedule the WhatsApp message\n",
    "# This will open WhatsApp Web automatically in your default browser and send the message\n",
    "kit.sendwhatmsg(phone_number, message, send_time_hour, send_time_minute)\n",
    "\n",
    "# Important note:\n",
    "# 📝 WhatsApp Web must remain open for the message to be sent.\n",
    "# 📝 pywhatkit works best if you keep your session active in WhatsApp Web.\n",
    "# 📝 If you want to test safely, replace the number with your own or create a test group.\n"
   ]
  }
 ],
 "metadata": {
  "kernelspec": {
   "display_name": "Python 3 (ipykernel)",
   "language": "python",
   "name": "python3"
  },
  "language_info": {
   "codemirror_mode": {
    "name": "ipython",
    "version": 3
   },
   "file_extension": ".py",
   "mimetype": "text/x-python",
   "name": "python",
   "nbconvert_exporter": "python",
   "pygments_lexer": "ipython3",
   "version": "3.12.3"
  }
 },
 "nbformat": 4,
 "nbformat_minor": 5
}
