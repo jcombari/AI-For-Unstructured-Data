{
 "cells": [
  {
   "cell_type": "code",
   "execution_count": 1,
   "id": "6c9d7237-4015-4d56-9589-576d43e9563a",
   "metadata": {},
   "outputs": [
    {
     "ename": "FileNotFoundError",
     "evalue": "[Errno 2] No such file or directory: 'china.jpg'",
     "output_type": "error",
     "traceback": [
      "\u001b[1;31m---------------------------------------------------------------------------\u001b[0m",
      "\u001b[1;31mFileNotFoundError\u001b[0m                         Traceback (most recent call last)",
      "Cell \u001b[1;32mIn[1], line 10\u001b[0m\n\u001b[0;32m      7\u001b[0m \u001b[38;5;28;01mimport\u001b[39;00m \u001b[38;5;21;01mnumpy\u001b[39;00m \u001b[38;5;28;01mas\u001b[39;00m \u001b[38;5;21;01mnp\u001b[39;00m\n\u001b[0;32m      9\u001b[0m \u001b[38;5;66;03m# 📥 Cargar la imagen \"china.jpg\"\u001b[39;00m\n\u001b[1;32m---> 10\u001b[0m \u001b[38;5;28;01mwith\u001b[39;00m \u001b[38;5;28mopen\u001b[39m(\u001b[38;5;124m\"\u001b[39m\u001b[38;5;124mchina.jpg\u001b[39m\u001b[38;5;124m\"\u001b[39m, \u001b[38;5;124m\"\u001b[39m\u001b[38;5;124mrb\u001b[39m\u001b[38;5;124m\"\u001b[39m) \u001b[38;5;28;01mas\u001b[39;00m img_file:\n\u001b[0;32m     11\u001b[0m     binary_data \u001b[38;5;241m=\u001b[39m img_file\u001b[38;5;241m.\u001b[39mread()\n\u001b[0;32m     13\u001b[0m \u001b[38;5;66;03m# 🔄 Codificar en Base64\u001b[39;00m\n",
      "File \u001b[1;32m~\\anaconda3\\Lib\\site-packages\\IPython\\core\\interactiveshell.py:324\u001b[0m, in \u001b[0;36m_modified_open\u001b[1;34m(file, *args, **kwargs)\u001b[0m\n\u001b[0;32m    317\u001b[0m \u001b[38;5;28;01mif\u001b[39;00m file \u001b[38;5;129;01min\u001b[39;00m {\u001b[38;5;241m0\u001b[39m, \u001b[38;5;241m1\u001b[39m, \u001b[38;5;241m2\u001b[39m}:\n\u001b[0;32m    318\u001b[0m     \u001b[38;5;28;01mraise\u001b[39;00m \u001b[38;5;167;01mValueError\u001b[39;00m(\n\u001b[0;32m    319\u001b[0m         \u001b[38;5;124mf\u001b[39m\u001b[38;5;124m\"\u001b[39m\u001b[38;5;124mIPython won\u001b[39m\u001b[38;5;124m'\u001b[39m\u001b[38;5;124mt let you open fd=\u001b[39m\u001b[38;5;132;01m{\u001b[39;00mfile\u001b[38;5;132;01m}\u001b[39;00m\u001b[38;5;124m by default \u001b[39m\u001b[38;5;124m\"\u001b[39m\n\u001b[0;32m    320\u001b[0m         \u001b[38;5;124m\"\u001b[39m\u001b[38;5;124mas it is likely to crash IPython. If you know what you are doing, \u001b[39m\u001b[38;5;124m\"\u001b[39m\n\u001b[0;32m    321\u001b[0m         \u001b[38;5;124m\"\u001b[39m\u001b[38;5;124myou can use builtins\u001b[39m\u001b[38;5;124m'\u001b[39m\u001b[38;5;124m open.\u001b[39m\u001b[38;5;124m\"\u001b[39m\n\u001b[0;32m    322\u001b[0m     )\n\u001b[1;32m--> 324\u001b[0m \u001b[38;5;28;01mreturn\u001b[39;00m io_open(file, \u001b[38;5;241m*\u001b[39margs, \u001b[38;5;241m*\u001b[39m\u001b[38;5;241m*\u001b[39mkwargs)\n",
      "\u001b[1;31mFileNotFoundError\u001b[0m: [Errno 2] No such file or directory: 'china.jpg'"
     ]
    }
   ],
   "source": [
    "# Importar bibliotecas necesarias\n",
    "import pandas as pd\n",
    "import base64\n",
    "from PIL import Image\n",
    "import io\n",
    "import matplotlib.pyplot as plt\n",
    "import numpy as np\n",
    "\n",
    "# 📥 Cargar la imagen \"china.jpg\"\n",
    "with open(\"china.jpg\", \"rb\") as img_file:\n",
    "    binary_data = img_file.read()\n",
    "\n",
    "# 🔄 Codificar en Base64\n",
    "encoded_data = base64.b64encode(binary_data).decode('utf-8')\n",
    "\n",
    "# 📊 Mostrar parte del texto codificado\n",
    "print(\"🔢 Fragmento de los datos codificados (Base64):\")\n",
    "print(encoded_data[:500] + \"...\")  # Mostrar los primeros 500 caracteres\n",
    "\n",
    "# 📏 Comparar tamaños\n",
    "original_size = len(binary_data)\n",
    "encoded_size = len(encoded_data)\n",
    "print(f\"\\n📐 Tamaño original en bytes: {original_size}\")\n",
    "print(f\"📐 Tamaño codificado en caracteres: {encoded_size}\")\n",
    "\n",
    "# 📊 Visualización de datos binarios como un gráfico\n",
    "binary_array = np.frombuffer(binary_data, dtype=np.uint8)\n",
    "plt.figure(figsize=(12, 4))\n",
    "plt.hist(binary_array, bins=50, color='blue', alpha=0.7)\n",
    "plt.title(\"Distribución de los valores binarios de la imagen\")\n",
    "plt.xlabel(\"Valor de byte (0-255)\")\n",
    "plt.ylabel(\"Frecuencia\")\n",
    "plt.show()\n",
    "\n",
    "# 🔁 Decodificar la imagen\n",
    "decoded_data = base64.b64decode(encoded_data)\n",
    "decoded_image = Image.open(io.BytesIO(decoded_data))\n",
    "\n",
    "# 🖼️ Mostrar la imagen decodificada\n",
    "plt.imshow(decoded_image)\n",
    "plt.axis(\"off\")\n",
    "plt.title(\"Imagen Decodificada\")\n",
    "plt.show()\n"
   ]
  }
 ],
 "metadata": {
  "kernelspec": {
   "display_name": "Python 3 (ipykernel)",
   "language": "python",
   "name": "python3"
  },
  "language_info": {
   "codemirror_mode": {
    "name": "ipython",
    "version": 3
   },
   "file_extension": ".py",
   "mimetype": "text/x-python",
   "name": "python",
   "nbconvert_exporter": "python",
   "pygments_lexer": "ipython3",
   "version": "3.12.3"
  }
 },
 "nbformat": 4,
 "nbformat_minor": 5
}
