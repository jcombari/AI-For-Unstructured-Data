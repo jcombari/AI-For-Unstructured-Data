{
 "cells": [
  {
   "cell_type": "code",
   "execution_count": 19,
   "id": "753e7070-17d5-4438-9b1c-c28403ee517e",
   "metadata": {},
   "outputs": [
    {
     "ename": "TimeoutException",
     "evalue": "Message: \n",
     "output_type": "error",
     "traceback": [
      "\u001b[1;31m---------------------------------------------------------------------------\u001b[0m",
      "\u001b[1;31mTimeoutException\u001b[0m                          Traceback (most recent call last)",
      "Cell \u001b[1;32mIn[19], line 23\u001b[0m\n\u001b[0;32m     21\u001b[0m wait \u001b[38;5;241m=\u001b[39m WebDriverWait(driver, \u001b[38;5;241m10\u001b[39m)\n\u001b[0;32m     22\u001b[0m \u001b[38;5;66;03m# Wait for element to be visible, not just present\u001b[39;00m\n\u001b[1;32m---> 23\u001b[0m search_box \u001b[38;5;241m=\u001b[39m wait\u001b[38;5;241m.\u001b[39muntil(EC\u001b[38;5;241m.\u001b[39mvisibility_of_element_located((By\u001b[38;5;241m.\u001b[39mID, \u001b[38;5;124m\"\u001b[39m\u001b[38;5;124msearchInput\u001b[39m\u001b[38;5;124m\"\u001b[39m)))\n\u001b[0;32m     25\u001b[0m \u001b[38;5;66;03m# Click to focus before clearing\u001b[39;00m\n\u001b[0;32m     26\u001b[0m search_box\u001b[38;5;241m.\u001b[39mclick()\n",
      "File \u001b[1;32m~\\anaconda3\\Lib\\site-packages\\selenium\\webdriver\\support\\wait.py:146\u001b[0m, in \u001b[0;36mWebDriverWait.until\u001b[1;34m(self, method, message)\u001b[0m\n\u001b[0;32m    144\u001b[0m         \u001b[38;5;28;01mbreak\u001b[39;00m\n\u001b[0;32m    145\u001b[0m     time\u001b[38;5;241m.\u001b[39msleep(\u001b[38;5;28mself\u001b[39m\u001b[38;5;241m.\u001b[39m_poll)\n\u001b[1;32m--> 146\u001b[0m \u001b[38;5;28;01mraise\u001b[39;00m TimeoutException(message, screen, stacktrace)\n",
      "\u001b[1;31mTimeoutException\u001b[0m: Message: \n"
     ]
    }
   ],
   "source": [
    "from selenium import webdriver\n",
    "from selenium.webdriver.common.by import By\n",
    "from selenium.webdriver.common.keys import Keys\n",
    "from selenium.webdriver.chrome.options import Options\n",
    "from selenium.webdriver.support.ui import WebDriverWait\n",
    "from selenium.webdriver.support import expected_conditions as EC\n",
    "import pandas as pd\n",
    "\n",
    "search_term = \"Data Science\"\n",
    "\n",
    "options = Options()\n",
    "# Comment out headless to debug visually\n",
    "# options.add_argument('--headless')\n",
    "options.add_argument('--disable-gpu')\n",
    "\n",
    "driver = webdriver.Chrome(options=options)\n",
    "\n",
    "try:\n",
    "    driver.get(\"https://en.wikipedia.org\")\n",
    "\n",
    "    wait = WebDriverWait(driver, 10)\n",
    "    # Wait for element to be visible, not just present\n",
    "    search_box = wait.until(EC.visibility_of_element_located((By.ID, \"searchInput\")))\n",
    "\n",
    "    # Click to focus before clearing\n",
    "    search_box.click()\n",
    "    search_box.clear()\n",
    "    search_box.send_keys(search_term)\n",
    "    search_box.send_keys(Keys.RETURN)\n",
    "\n",
    "    wait.until(EC.presence_of_element_located((By.ID, \"firstHeading\")))\n",
    "\n",
    "    results = driver.find_elements(By.CSS_SELECTOR, \".mw-search-result-heading a\")\n",
    "\n",
    "    data = []\n",
    "    for res in results[:10]:\n",
    "        title = res.text\n",
    "        link = res.get_attribute('href')\n",
    "        data.append({\"Title\": title, \"Link\": link})\n",
    "\n",
    "    df = pd.DataFrame(data)\n",
    "    print(df)\n",
    "\n",
    "finally:\n",
    "    driver.quit()\n"
   ]
  }
 ],
 "metadata": {
  "kernelspec": {
   "display_name": "Python 3 (ipykernel)",
   "language": "python",
   "name": "python3"
  },
  "language_info": {
   "codemirror_mode": {
    "name": "ipython",
    "version": 3
   },
   "file_extension": ".py",
   "mimetype": "text/x-python",
   "name": "python",
   "nbconvert_exporter": "python",
   "pygments_lexer": "ipython3",
   "version": "3.12.3"
  }
 },
 "nbformat": 4,
 "nbformat_minor": 5
}
