{
 "cells": [
  {
   "cell_type": "markdown",
   "id": "ec0c25f0-1cbf-4ff9-a3ea-5aa4253d8b00",
   "metadata": {},
   "source": []
  },
  {
   "cell_type": "code",
   "execution_count": 1,
   "id": "1887e756-eda6-4492-b247-d821f34a29bd",
   "metadata": {},
   "outputs": [
    {
     "name": "stdout",
     "output_type": "stream",
     "text": [
      "In 77 Seconds WhatsApp will open and after 15 Seconds Message will be Delivered!\n"
     ]
    }
   ],
   "source": [
    "# 📌 AUTOMATE WHATSAPP MESSAGES USING pywhatkit\n",
    "\n",
    "# Import the required library\n",
    "import pywhatkit as kit\n",
    "from datetime import datetime, timedelta\n",
    "\n",
    "# Example contact number in international format (dummy number)\n",
    "phone_number = \"+34123456789\"\n",
    "\n",
    "# Example message to be sent\n",
    "message = \"🚀 Reminder: Your order has been shipped! 📦\"\n",
    "\n",
    "# Get current time and set the message to be sent 2 minutes from now\n",
    "now = datetime.now()\n",
    "send_time_hour = now.hour\n",
    "send_time_minute = (now.minute + 2) % 60  # Adds 2 minutes to current time\n",
    "\n",
    "# Schedule the WhatsApp message\n",
    "# This will open WhatsApp Web automatically in your default browser and send the message\n",
    "kit.sendwhatmsg(phone_number, message, send_time_hour, send_time_minute)\n",
    "\n",
    "# Important note:\n",
    "# 📝 WhatsApp Web must remain open for the message to be sent.\n",
    "# 📝 pywhatkit works best if you keep your session active in WhatsApp Web.\n",
    "# 📝 If you want to test safely, replace the number with your own or create a test group.\n"
   ]
  }
 ],
 "metadata": {
  "kernelspec": {
   "display_name": "Python 3 (ipykernel)",
   "language": "python",
   "name": "python3"
  },
  "language_info": {
   "codemirror_mode": {
    "name": "ipython",
    "version": 3
   },
   "file_extension": ".py",
   "mimetype": "text/x-python",
   "name": "python",
   "nbconvert_exporter": "python",
   "pygments_lexer": "ipython3",
   "version": "3.12.3"
  }
 },
 "nbformat": 4,
 "nbformat_minor": 5
}
